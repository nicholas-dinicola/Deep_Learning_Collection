{
 "cells": [
  {
   "cell_type": "code",
   "execution_count": 3,
   "id": "b7e1b04a-d66c-4a75-9bca-0faad3af6409",
   "metadata": {},
   "outputs": [],
   "source": [
    "import time\n",
    "import random \n",
    "import unicodedata\n",
    "import string \n",
    "import re\n",
    "\n",
    "import matplotlib.pyplot as plt \n",
    "import torch\n",
    "\n",
    "torch.backends.cudnn.deterministic = True"
   ]
  },
  {
   "cell_type": "code",
   "execution_count": 93,
   "id": "141ee524-b2f6-4dad-b345-6a96bb05cadf",
   "metadata": {},
   "outputs": [
    {
     "name": "stdout",
     "output_type": "stream",
     "text": [
      "Device: cpu\n"
     ]
    }
   ],
   "source": [
    "# General Settings \n",
    "RANDOM_SEED = 123\n",
    "torch.manual_seed(RANDOM_SEED) \n",
    "\n",
    "DEVICE = torch.device('cuda' if torch.cuda.is_available() else 'cpu')\n",
    "TEXT_PORTION_SIZE = 200 \n",
    "NUM_ITER = 5_000 \n",
    "LEARNING_RATE = 0.005\n",
    "EMBEDDING_DIM = 100 \n",
    "HIDDEN_DIM = 128 \n",
    "\n",
    "print(f\"Device: {DEVICE}\")"
   ]
  },
  {
   "cell_type": "code",
   "execution_count": 11,
   "id": "f39717d5-29d1-404d-98fb-f7b2d1823095",
   "metadata": {},
   "outputs": [
    {
     "name": "stdout",
     "output_type": "stream",
     "text": [
      "Number of chars in text: 1984768\n"
     ]
    }
   ],
   "source": [
    "# Dataset \n",
    "with open(\"data/anna.txt\", \"r\") as f: \n",
    "    textfile = f.read() \n",
    "\n",
    "# Strip extra spaces \n",
    "textfile = re.sub(\" +\", \" \", textfile)\n",
    "\n",
    "TEXT_LENGTH = len(textfile) \n",
    "print(f\"Number of chars in text: {TEXT_LENGTH}\")"
   ]
  },
  {
   "cell_type": "code",
   "execution_count": 12,
   "id": "6c0624b2-e09a-4eed-a733-c2a9bdadb3f0",
   "metadata": {},
   "outputs": [
    {
     "data": {
      "text/plain": [
       "1984568"
      ]
     },
     "execution_count": 12,
     "metadata": {},
     "output_type": "execute_result"
    }
   ],
   "source": [
    "TEXT_LENGTH - TEXT_PORTION_SIZE"
   ]
  },
  {
   "cell_type": "code",
   "execution_count": 15,
   "id": "8fd55054-30a9-4916-9c5c-5bbe65ffc15c",
   "metadata": {},
   "outputs": [
    {
     "name": "stdout",
     "output_type": "stream",
     "text": [
      "sort of tragedy. 'I'm much obliged for the\n",
      "gratification, my humble respects'--that's all the tragedy. And in\n",
      "platonic love there can be no tragedy, because in that love all is clear\n",
      "and pure, because.\n"
     ]
    }
   ],
   "source": [
    "# Divide the text into similar portions \n",
    "\n",
    "def random_portion(textfile): \n",
    "    # choose a rand int btween 0 and tot. number of chars in df - text_portion_size\n",
    "    start_index = random.randint(0, TEXT_LENGTH - TEXT_PORTION_SIZE)\n",
    "    # from start_idx add the text_portion_size + 1 to get the end_indx\n",
    "    end_index = start_index + TEXT_PORTION_SIZE + 1\n",
    "    return textfile[start_index:end_index]\n",
    "\n",
    "print(random_portion(textfile))"
   ]
  },
  {
   "cell_type": "code",
   "execution_count": 23,
   "id": "f9d700c1-b133-400b-9c02-f1132b77cf8c",
   "metadata": {},
   "outputs": [
    {
     "name": "stdout",
     "output_type": "stream",
     "text": [
      "0123456789abcdefghijklmnopqrstuvwxyzABCDEFGHIJKLMNOPQRSTUVWXYZ!\"#$%&'()*+,-./:;<=>?@[\\]^_`{|}~ \t\n",
      "\u000b",
      "\f",
      "\n",
      "tensor([ 0,  1, 10, 11, 12])\n"
     ]
    }
   ],
   "source": [
    "# Convert Chars to Tensors\n",
    "def char_to_tensor(text) -> torch.tensor: \n",
    "    _list = [string.printable.index(c) for c in text]\n",
    "    tensor = torch.tensor(_list).long()\n",
    "    return tensor\n",
    "\n",
    "print(string.printable)\n",
    "print(char_to_tensor(\"01abc\"))"
   ]
  },
  {
   "cell_type": "code",
   "execution_count": 27,
   "id": "56d4529e-cf89-465b-b5eb-584fe20990ce",
   "metadata": {},
   "outputs": [
    {
     "name": "stdout",
     "output_type": "stream",
     "text": [
      "(tensor([94, 36, 21, 14, 33, 14, 34, 94, 36, 21, 14, 33, 10, 23, 13, 27, 24, 31,\n",
      "        18, 29, 12, 17, 73, 96, 27, 14, 10, 13, 34, 94, 15, 24, 27, 94, 17, 18,\n",
      "        28, 94, 28, 25, 14, 14, 12, 17, 73, 94, 28, 29, 24, 24, 13, 94, 12, 24,\n",
      "        22, 25, 27, 14, 28, 28, 18, 23, 16, 94, 17, 18, 28, 94, 12, 27, 24, 28,\n",
      "        28, 14, 13, 94, 15, 18, 23, 16, 14, 27, 28, 73, 94, 32, 10, 18, 29, 18,\n",
      "        23, 16, 94, 29, 24, 96, 28, 14, 14, 94, 18, 15, 94, 29, 17, 14, 94, 12,\n",
      "        27, 10, 12, 20, 94, 32, 24, 30, 21, 13, 94, 23, 24, 29, 94, 12, 24, 22,\n",
      "        14, 94, 10, 16, 10, 18, 23, 75, 94, 50, 23, 14, 94, 19, 24, 18, 23, 29,\n",
      "        94, 12, 27, 10, 12, 20, 14, 13, 75, 96, 96, 36, 21, 27, 14, 10, 13, 34,\n",
      "        73, 94, 15, 27, 24, 22, 94, 29, 17, 14, 94, 28, 24, 30, 23, 13, 94, 24,\n",
      "        15, 94, 21, 18, 16, 17, 29, 94, 28, 29, 14, 25, 28, 94, 24, 23, 94, 29,\n",
      "        17, 14]), tensor([36, 21, 14, 33, 14, 34, 94, 36, 21, 14, 33, 10, 23, 13, 27, 24, 31, 18,\n",
      "        29, 12, 17, 73, 96, 27, 14, 10, 13, 34, 94, 15, 24, 27, 94, 17, 18, 28,\n",
      "        94, 28, 25, 14, 14, 12, 17, 73, 94, 28, 29, 24, 24, 13, 94, 12, 24, 22,\n",
      "        25, 27, 14, 28, 28, 18, 23, 16, 94, 17, 18, 28, 94, 12, 27, 24, 28, 28,\n",
      "        14, 13, 94, 15, 18, 23, 16, 14, 27, 28, 73, 94, 32, 10, 18, 29, 18, 23,\n",
      "        16, 94, 29, 24, 96, 28, 14, 14, 94, 18, 15, 94, 29, 17, 14, 94, 12, 27,\n",
      "        10, 12, 20, 94, 32, 24, 30, 21, 13, 94, 23, 24, 29, 94, 12, 24, 22, 14,\n",
      "        94, 10, 16, 10, 18, 23, 75, 94, 50, 23, 14, 94, 19, 24, 18, 23, 29, 94,\n",
      "        12, 27, 10, 12, 20, 14, 13, 75, 96, 96, 36, 21, 27, 14, 10, 13, 34, 73,\n",
      "        94, 15, 27, 24, 22, 94, 29, 17, 14, 94, 28, 24, 30, 23, 13, 94, 24, 15,\n",
      "        94, 21, 18, 16, 17, 29, 94, 28, 29, 14, 25, 28, 94, 24, 23, 94, 29, 17,\n",
      "        14, 94]))\n"
     ]
    }
   ],
   "source": [
    "def draw_random_sample(textfile): \n",
    "    text_long = char_to_tensor(random_portion(textfile))\n",
    "    inputs = text_long[:-1]\n",
    "    targets = text_long[1:]\n",
    "    return inputs, targets\n",
    "\n",
    "print(draw_random_sample(textfile))"
   ]
  },
  {
   "cell_type": "code",
   "execution_count": 32,
   "id": "0822ec12-f729-49bd-bbae-c1cfd9f9123d",
   "metadata": {},
   "outputs": [],
   "source": [
    "# Model \n",
    "\n",
    "class RNN(torch.nn.Module): \n",
    "    def __init__(\n",
    "        self, \n",
    "        input_size: int, \n",
    "        embed_size: int, \n",
    "        hidden_size: int, \n",
    "        output_size: int\n",
    "        ): \n",
    "        super(RNN, self).__init__()\n",
    "        \n",
    "        self.hidden_size = hidden_size\n",
    "        self.embed = torch.nn.Embedding(\n",
    "                                    num_embeddings=input_size, \n",
    "                                    embedding_dim=embed_size) \n",
    "        self.rnn = torch.nn.LSTMCell(input_size=embed_size, \n",
    "                                     hidden_size=hidden_size) \n",
    "        self.fc = torch.nn.Linear(hidden_size, output_size) \n",
    "        \n",
    "    def forward(self, character, hidden_state, cell_state):\n",
    "        # expects character as size (batch_size, 1) \n",
    "        \n",
    "        # (batch_size, embedding_dim) = (1, embedding_dim=100) \n",
    "        embedded = self.embed(character) # (1 * 100)\n",
    "        (hidden_state, cell_state) = self.rnn(embedded, (hidden_state, cell_state))\n",
    "        output = self.fc(hidden_state)\n",
    "        return output, hidden_state, cell_state\n",
    "                                              \n",
    "    def init_zero_state(self):\n",
    "        # dimension = (1 x 128)\n",
    "        init_hidden = torch.zeros(1, self.hidden_size).to(DEVICE) \n",
    "        init_cell = torch.zeros(1, self.hidden_size).to(DEVICE)\n",
    "        return (init_hidden, init_cell)\n",
    "                                                                                    \n",
    "                                              \n",
    "        "
   ]
  },
  {
   "cell_type": "code",
   "execution_count": 96,
   "id": "498f1e12-b609-43f0-b8f7-9fc9b4d173c9",
   "metadata": {},
   "outputs": [],
   "source": [
    "torch.manual_seed(RANDOM_SEED) \n",
    "model = RNN(input_size=len(string.printable), # 100\n",
    "            embed_size=EMBEDDING_DIM,         # 100\n",
    "            hidden_size=HIDDEN_DIM,           # 128\n",
    "            output_size=len(string.printable) # 100\n",
    "           ) \n",
    "model = model.to(DEVICE) \n",
    "optimizer = torch.optim.Adam(model.parameters(), lr=LEARNING_RATE) "
   ]
  },
  {
   "cell_type": "code",
   "execution_count": 89,
   "id": "a1749a24-d2a9-4df9-9dad-43950013b48d",
   "metadata": {},
   "outputs": [],
   "source": [
    "# Training \n",
    "\n",
    "def evaluate(model, prime_str='A', predict_len=100, temperature=0.8):\n",
    "    ## based on https://github.com/spro/practical-pytorch/\n",
    "    ## blob/master/char-rnn-generation/char-rnn-generation.ipynb\n",
    "\n",
    "    (hidden, cell_state) = model.init_zero_state()\n",
    "    prime_input = char_to_tensor(prime_str)\n",
    "    predicted = prime_str\n",
    "\n",
    "    # Use priming string to \"build up\" hidden state\n",
    "    for p in range(len(prime_str) - 1):\n",
    "        inp = prime_input[p].unsqueeze(0)\n",
    "        _, hidden, cell_state = model(inp.to(DEVICE), hidden, cell_state)\n",
    "    inp = prime_input[-1].unsqueeze(0)\n",
    "    \n",
    "    for p in range(predict_len):\n",
    "\n",
    "        outputs, hidden, cell_state = model(inp.to(DEVICE), hidden, cell_state)\n",
    "        \n",
    "        # Sample from the network as a multinomial distribution\n",
    "        output_dist = outputs.data.view(-1).div(temperature).exp() # e^{logits / T}\n",
    "        top_i = torch.multinomial(output_dist, 1)[0]\n",
    "        \n",
    "        # Add predicted character to string and use as next input\n",
    "        predicted_char = string.printable[top_i]\n",
    "        predicted += predicted_char\n",
    "        inp = char_to_tensor(predicted_char)\n",
    "\n",
    "    return predicted"
   ]
  },
  {
   "cell_type": "code",
   "execution_count": 97,
   "id": "d80ef267-530d-49be-98d8-185594019881",
   "metadata": {},
   "outputs": [
    {
     "name": "stdout",
     "output_type": "stream",
     "text": [
      "Time elapsed: 0.03 min\n",
      "Iteration 0 | Loss 4.62\n",
      "\n",
      "\n",
      "ThA\n",
      "C8(_NWmsdcrx~\n",
      "AGq40uWn\"?LY\"B5Ckl]7C~=\tR\n",
      "n&u8Wor*K\\/=u;+M0|~@]2L\f",
      "q\n",
      "pYn^.06Bv\tK=Uqv:3Wmw`^C!OUMY\n",
      "K7;&e\n",
      "G^_K\n",
      " +Rn%%nzh*`w'f+31:2zMiS!SV/nZu<]3>EoI!eb*M,f`:M]r\u000b",
      "]*jkgUQVg\u000b",
      "O=nJ_CM1q\n",
      "\n",
      "==================================================\n"
     ]
    },
    {
     "ename": "KeyboardInterrupt",
     "evalue": "",
     "output_type": "error",
     "traceback": [
      "\u001b[0;31m---------------------------------------------------------------------------\u001b[0m",
      "\u001b[0;31mKeyboardInterrupt\u001b[0m                         Traceback (most recent call last)",
      "Input \u001b[0;32mIn [97]\u001b[0m, in \u001b[0;36m<cell line: 5>\u001b[0;34m()\u001b[0m\n\u001b[1;32m     12\u001b[0m inputs, targets \u001b[38;5;241m=\u001b[39m inputs\u001b[38;5;241m.\u001b[39mto(DEVICE), targets\u001b[38;5;241m.\u001b[39mto(DEVICE)\n\u001b[1;32m     14\u001b[0m \u001b[38;5;28;01mfor\u001b[39;00m c \u001b[38;5;129;01min\u001b[39;00m \u001b[38;5;28mrange\u001b[39m(TEXT_PORTION_SIZE):\n\u001b[0;32m---> 15\u001b[0m     outputs, hidden, cell_state \u001b[38;5;241m=\u001b[39m \u001b[43mmodel\u001b[49m\u001b[43m(\u001b[49m\u001b[43minputs\u001b[49m\u001b[43m[\u001b[49m\u001b[43mc\u001b[49m\u001b[43m]\u001b[49m\u001b[38;5;241;43m.\u001b[39;49m\u001b[43munsqueeze\u001b[49m\u001b[43m(\u001b[49m\u001b[38;5;241;43m0\u001b[39;49m\u001b[43m)\u001b[49m\u001b[43m,\u001b[49m\u001b[43m \u001b[49m\u001b[43mhidden\u001b[49m\u001b[43m,\u001b[49m\u001b[43m \u001b[49m\u001b[43mcell_state\u001b[49m\u001b[43m)\u001b[49m\n\u001b[1;32m     16\u001b[0m     loss \u001b[38;5;241m+\u001b[39m\u001b[38;5;241m=\u001b[39m torch\u001b[38;5;241m.\u001b[39mnn\u001b[38;5;241m.\u001b[39mfunctional\u001b[38;5;241m.\u001b[39mcross_entropy(outputs, targets[c]\u001b[38;5;241m.\u001b[39mview(\u001b[38;5;241m1\u001b[39m))\n\u001b[1;32m     18\u001b[0m loss \u001b[38;5;241m/\u001b[39m\u001b[38;5;241m=\u001b[39m TEXT_PORTION_SIZE\n",
      "File \u001b[0;32m/opt/conda/lib/python3.10/site-packages/torch/nn/modules/module.py:1130\u001b[0m, in \u001b[0;36mModule._call_impl\u001b[0;34m(self, *input, **kwargs)\u001b[0m\n\u001b[1;32m   1126\u001b[0m \u001b[38;5;66;03m# If we don't have any hooks, we want to skip the rest of the logic in\u001b[39;00m\n\u001b[1;32m   1127\u001b[0m \u001b[38;5;66;03m# this function, and just call forward.\u001b[39;00m\n\u001b[1;32m   1128\u001b[0m \u001b[38;5;28;01mif\u001b[39;00m \u001b[38;5;129;01mnot\u001b[39;00m (\u001b[38;5;28mself\u001b[39m\u001b[38;5;241m.\u001b[39m_backward_hooks \u001b[38;5;129;01mor\u001b[39;00m \u001b[38;5;28mself\u001b[39m\u001b[38;5;241m.\u001b[39m_forward_hooks \u001b[38;5;129;01mor\u001b[39;00m \u001b[38;5;28mself\u001b[39m\u001b[38;5;241m.\u001b[39m_forward_pre_hooks \u001b[38;5;129;01mor\u001b[39;00m _global_backward_hooks\n\u001b[1;32m   1129\u001b[0m         \u001b[38;5;129;01mor\u001b[39;00m _global_forward_hooks \u001b[38;5;129;01mor\u001b[39;00m _global_forward_pre_hooks):\n\u001b[0;32m-> 1130\u001b[0m     \u001b[38;5;28;01mreturn\u001b[39;00m \u001b[43mforward_call\u001b[49m\u001b[43m(\u001b[49m\u001b[38;5;241;43m*\u001b[39;49m\u001b[38;5;28;43minput\u001b[39;49m\u001b[43m,\u001b[49m\u001b[43m \u001b[49m\u001b[38;5;241;43m*\u001b[39;49m\u001b[38;5;241;43m*\u001b[39;49m\u001b[43mkwargs\u001b[49m\u001b[43m)\u001b[49m\n\u001b[1;32m   1131\u001b[0m \u001b[38;5;66;03m# Do not call functions when jit is used\u001b[39;00m\n\u001b[1;32m   1132\u001b[0m full_backward_hooks, non_full_backward_hooks \u001b[38;5;241m=\u001b[39m [], []\n",
      "Input \u001b[0;32mIn [32]\u001b[0m, in \u001b[0;36mRNN.forward\u001b[0;34m(self, character, hidden_state, cell_state)\u001b[0m\n\u001b[1;32m     20\u001b[0m \u001b[38;5;28;01mdef\u001b[39;00m \u001b[38;5;21mforward\u001b[39m(\u001b[38;5;28mself\u001b[39m, character, hidden_state, cell_state):\n\u001b[1;32m     21\u001b[0m     \u001b[38;5;66;03m# expects character as size (batch_size, 1) \u001b[39;00m\n\u001b[1;32m     22\u001b[0m     \n\u001b[1;32m     23\u001b[0m     \u001b[38;5;66;03m# (batch_size, embedding_dim) = (1, embedding_dim=100) \u001b[39;00m\n\u001b[1;32m     24\u001b[0m     embedded \u001b[38;5;241m=\u001b[39m \u001b[38;5;28mself\u001b[39m\u001b[38;5;241m.\u001b[39membed(character) \u001b[38;5;66;03m# (1 * 100)\u001b[39;00m\n\u001b[0;32m---> 25\u001b[0m     (hidden_state, cell_state) \u001b[38;5;241m=\u001b[39m \u001b[38;5;28;43mself\u001b[39;49m\u001b[38;5;241;43m.\u001b[39;49m\u001b[43mrnn\u001b[49m\u001b[43m(\u001b[49m\u001b[43membedded\u001b[49m\u001b[43m,\u001b[49m\u001b[43m \u001b[49m\u001b[43m(\u001b[49m\u001b[43mhidden_state\u001b[49m\u001b[43m,\u001b[49m\u001b[43m \u001b[49m\u001b[43mcell_state\u001b[49m\u001b[43m)\u001b[49m\u001b[43m)\u001b[49m\n\u001b[1;32m     26\u001b[0m     output \u001b[38;5;241m=\u001b[39m \u001b[38;5;28mself\u001b[39m\u001b[38;5;241m.\u001b[39mfc(hidden_state)\n\u001b[1;32m     27\u001b[0m     \u001b[38;5;28;01mreturn\u001b[39;00m output, hidden_state, cell_state\n",
      "File \u001b[0;32m/opt/conda/lib/python3.10/site-packages/torch/nn/modules/module.py:1130\u001b[0m, in \u001b[0;36mModule._call_impl\u001b[0;34m(self, *input, **kwargs)\u001b[0m\n\u001b[1;32m   1126\u001b[0m \u001b[38;5;66;03m# If we don't have any hooks, we want to skip the rest of the logic in\u001b[39;00m\n\u001b[1;32m   1127\u001b[0m \u001b[38;5;66;03m# this function, and just call forward.\u001b[39;00m\n\u001b[1;32m   1128\u001b[0m \u001b[38;5;28;01mif\u001b[39;00m \u001b[38;5;129;01mnot\u001b[39;00m (\u001b[38;5;28mself\u001b[39m\u001b[38;5;241m.\u001b[39m_backward_hooks \u001b[38;5;129;01mor\u001b[39;00m \u001b[38;5;28mself\u001b[39m\u001b[38;5;241m.\u001b[39m_forward_hooks \u001b[38;5;129;01mor\u001b[39;00m \u001b[38;5;28mself\u001b[39m\u001b[38;5;241m.\u001b[39m_forward_pre_hooks \u001b[38;5;129;01mor\u001b[39;00m _global_backward_hooks\n\u001b[1;32m   1129\u001b[0m         \u001b[38;5;129;01mor\u001b[39;00m _global_forward_hooks \u001b[38;5;129;01mor\u001b[39;00m _global_forward_pre_hooks):\n\u001b[0;32m-> 1130\u001b[0m     \u001b[38;5;28;01mreturn\u001b[39;00m \u001b[43mforward_call\u001b[49m\u001b[43m(\u001b[49m\u001b[38;5;241;43m*\u001b[39;49m\u001b[38;5;28;43minput\u001b[39;49m\u001b[43m,\u001b[49m\u001b[43m \u001b[49m\u001b[38;5;241;43m*\u001b[39;49m\u001b[38;5;241;43m*\u001b[39;49m\u001b[43mkwargs\u001b[49m\u001b[43m)\u001b[49m\n\u001b[1;32m   1131\u001b[0m \u001b[38;5;66;03m# Do not call functions when jit is used\u001b[39;00m\n\u001b[1;32m   1132\u001b[0m full_backward_hooks, non_full_backward_hooks \u001b[38;5;241m=\u001b[39m [], []\n",
      "File \u001b[0;32m/opt/conda/lib/python3.10/site-packages/torch/nn/modules/rnn.py:1189\u001b[0m, in \u001b[0;36mLSTMCell.forward\u001b[0;34m(self, input, hx)\u001b[0m\n\u001b[1;32m   1186\u001b[0m \u001b[38;5;28;01melse\u001b[39;00m:\n\u001b[1;32m   1187\u001b[0m     hx \u001b[38;5;241m=\u001b[39m (hx[\u001b[38;5;241m0\u001b[39m]\u001b[38;5;241m.\u001b[39munsqueeze(\u001b[38;5;241m0\u001b[39m), hx[\u001b[38;5;241m1\u001b[39m]\u001b[38;5;241m.\u001b[39munsqueeze(\u001b[38;5;241m0\u001b[39m)) \u001b[38;5;28;01mif\u001b[39;00m \u001b[38;5;129;01mnot\u001b[39;00m is_batched \u001b[38;5;28;01melse\u001b[39;00m hx\n\u001b[0;32m-> 1189\u001b[0m ret \u001b[38;5;241m=\u001b[39m \u001b[43m_VF\u001b[49m\u001b[38;5;241;43m.\u001b[39;49m\u001b[43mlstm_cell\u001b[49m\u001b[43m(\u001b[49m\n\u001b[1;32m   1190\u001b[0m \u001b[43m    \u001b[49m\u001b[38;5;28;43minput\u001b[39;49m\u001b[43m,\u001b[49m\u001b[43m \u001b[49m\u001b[43mhx\u001b[49m\u001b[43m,\u001b[49m\n\u001b[1;32m   1191\u001b[0m \u001b[43m    \u001b[49m\u001b[38;5;28;43mself\u001b[39;49m\u001b[38;5;241;43m.\u001b[39;49m\u001b[43mweight_ih\u001b[49m\u001b[43m,\u001b[49m\u001b[43m \u001b[49m\u001b[38;5;28;43mself\u001b[39;49m\u001b[38;5;241;43m.\u001b[39;49m\u001b[43mweight_hh\u001b[49m\u001b[43m,\u001b[49m\n\u001b[1;32m   1192\u001b[0m \u001b[43m    \u001b[49m\u001b[38;5;28;43mself\u001b[39;49m\u001b[38;5;241;43m.\u001b[39;49m\u001b[43mbias_ih\u001b[49m\u001b[43m,\u001b[49m\u001b[43m \u001b[49m\u001b[38;5;28;43mself\u001b[39;49m\u001b[38;5;241;43m.\u001b[39;49m\u001b[43mbias_hh\u001b[49m\u001b[43m,\u001b[49m\n\u001b[1;32m   1193\u001b[0m \u001b[43m\u001b[49m\u001b[43m)\u001b[49m\n\u001b[1;32m   1195\u001b[0m \u001b[38;5;28;01mif\u001b[39;00m \u001b[38;5;129;01mnot\u001b[39;00m is_batched:\n\u001b[1;32m   1196\u001b[0m     ret \u001b[38;5;241m=\u001b[39m (ret[\u001b[38;5;241m0\u001b[39m]\u001b[38;5;241m.\u001b[39msqueeze(\u001b[38;5;241m0\u001b[39m), ret[\u001b[38;5;241m1\u001b[39m]\u001b[38;5;241m.\u001b[39msqueeze(\u001b[38;5;241m0\u001b[39m))\n",
      "\u001b[0;31mKeyboardInterrupt\u001b[0m: "
     ]
    },
    {
     "data": {
      "image/png": "[encoded data removed]",
      "text/plain": [
       "<Figure size 640x480 with 1 Axes>"
      ]
     },
     "metadata": {},
     "output_type": "display_data"
    }
   ],
   "source": [
    "start_time = time.time()\n",
    "\n",
    "loss_list = []\n",
    "\n",
    "for iteration in range(NUM_ITER):\n",
    "\n",
    "    hidden, cell_state = model.init_zero_state()\n",
    "    optimizer.zero_grad()\n",
    "    \n",
    "    loss = 0.\n",
    "    inputs, targets = draw_random_sample(textfile)\n",
    "    inputs, targets = inputs.to(DEVICE), targets.to(DEVICE)\n",
    "    \n",
    "    for c in range(TEXT_PORTION_SIZE):\n",
    "        outputs, hidden, cell_state = model(inputs[c].unsqueeze(0), hidden, cell_state)\n",
    "        loss += torch.nn.functional.cross_entropy(outputs, targets[c].view(1))\n",
    "\n",
    "    loss /= TEXT_PORTION_SIZE\n",
    "    loss.backward()\n",
    "    \n",
    "    ### UPDATE MODEL PARAMETERS\n",
    "    optimizer.step()\n",
    "\n",
    "    ### LOGGING\n",
    "    with torch.no_grad():\n",
    "        if iteration % 200 == 0:\n",
    "            print(f'Time elapsed: {(time.time() - start_time)/60:.2f} min')\n",
    "            print(f'Iteration {iteration} | Loss {loss.item():.2f}\\n\\n')\n",
    "            print(evaluate(model, 'Th', 200), '\\n')\n",
    "            print(50*'=')\n",
    "            \n",
    "            loss_list.append(loss.item())\n",
    "            plt.clf()\n",
    "            plt.plot(range(len(loss_list)), loss_list)\n",
    "            plt.ylabel('Loss')\n",
    "            plt.xlabel('Iteration x 1000')\n",
    "            plt.savefig('loss1.pdf')\n",
    "            \n",
    "plt.clf()\n",
    "plt.ylabel('Loss')\n",
    "plt.xlabel('Iteration x 1000')\n",
    "plt.plot(range(len(loss_list)), loss_list)\n",
    "plt.show()"
   ]
  },
  {
   "cell_type": "code",
   "execution_count": null,
   "id": "92fe7330-98cf-46fd-8b94-5ee5f17e3c3c",
   "metadata": {},
   "outputs": [],
   "source": []
  }
 ],
 "metadata": {
  "kernelspec": {
   "display_name": "Python 3 (ipykernel)",
   "language": "python",
   "name": "python3"
  },
  "language_info": {
   "codemirror_mode": {
    "name": "ipython",
    "version": 3
   },
   "file_extension": ".py",
   "mimetype": "text/x-python",
   "name": "python",
   "nbconvert_exporter": "python",
   "pygments_lexer": "ipython3",
   "version": "3.10.6"
  }
 },
 "nbformat": 4,
 "nbformat_minor": 5
}
