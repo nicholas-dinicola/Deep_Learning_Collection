{
 "cells": [
  {
   "cell_type": "code",
   "execution_count": 1,
   "id": "b7e1b04a-d66c-4a75-9bca-0faad3af6409",
   "metadata": {},
   "outputs": [],
   "source": [
    "import time\n",
    "import random \n",
    "import unicodedata\n",
    "import string \n",
    "import re\n",
    "\n",
    "import matplotlib.pyplot as plt \n",
    "import torch\n",
    "\n",
    "torch.backends.cudnn.deterministic = True"
   ]
  },
  {
   "cell_type": "code",
   "execution_count": 3,
   "id": "141ee524-b2f6-4dad-b345-6a96bb05cadf",
   "metadata": {},
   "outputs": [
    {
     "name": "stdout",
     "output_type": "stream",
     "text": [
      "Device: mps\n"
     ]
    }
   ],
   "source": [
    "# General Settings \n",
    "RANDOM_SEED = 123\n",
    "torch.manual_seed(RANDOM_SEED) \n",
    "\n",
    "DEVICE =  \"mps\" #torch.device('cuda' if torch.cuda.is_available() else 'cpu')\n",
    "TEXT_PORTION_SIZE = 200 \n",
    "NUM_ITER = 5_000 \n",
    "LEARNING_RATE = 0.005\n",
    "EMBEDDING_DIM = 100 \n",
    "HIDDEN_DIM = 128 \n",
    "\n",
    "print(f\"Device: {DEVICE}\")"
   ]
  },
  {
   "cell_type": "code",
   "execution_count": 4,
   "id": "f39717d5-29d1-404d-98fb-f7b2d1823095",
   "metadata": {},
   "outputs": [
    {
     "name": "stdout",
     "output_type": "stream",
     "text": [
      "Number of chars in text: 1984768\n"
     ]
    }
   ],
   "source": [
    "# Dataset \n",
    "with open(\"data/anna.txt\", \"r\") as f: \n",
    "    textfile = f.read() \n",
    "\n",
    "# Strip extra spaces \n",
    "textfile = re.sub(\" +\", \" \", textfile)\n",
    "\n",
    "TEXT_LENGTH = len(textfile) \n",
    "print(f\"Number of chars in text: {TEXT_LENGTH}\")"
   ]
  },
  {
   "cell_type": "code",
   "execution_count": 5,
   "id": "6c0624b2-e09a-4eed-a733-c2a9bdadb3f0",
   "metadata": {},
   "outputs": [
    {
     "data": {
      "text/plain": [
       "1984568"
      ]
     },
     "execution_count": 5,
     "metadata": {},
     "output_type": "execute_result"
    }
   ],
   "source": [
    "TEXT_LENGTH - TEXT_PORTION_SIZE"
   ]
  },
  {
   "cell_type": "code",
   "execution_count": 6,
   "id": "8fd55054-30a9-4916-9c5c-5bbe65ffc15c",
   "metadata": {},
   "outputs": [
    {
     "name": "stdout",
     "output_type": "stream",
     "text": [
      "e Masha a little\n",
      "fungus, split in half across its rosy cap by the dry grass from under\n",
      "which it thrust itself. Varenka got up while Masha picked the fungus,\n",
      "breaking it into two white halves. \"This bri\n"
     ]
    }
   ],
   "source": [
    "# Divide the text into similar portions \n",
    "\n",
    "def random_portion(textfile): \n",
    "    # choose a rand int btween 0 and tot. number of chars in df - text_portion_size\n",
    "    start_index = random.randint(0, TEXT_LENGTH - TEXT_PORTION_SIZE)\n",
    "    # from start_idx add the text_portion_size + 1 to get the end_indx\n",
    "    end_index = start_index + TEXT_PORTION_SIZE + 1\n",
    "    return textfile[start_index:end_index]\n",
    "\n",
    "print(random_portion(textfile))"
   ]
  },
  {
   "cell_type": "code",
   "execution_count": 7,
   "id": "f9d700c1-b133-400b-9c02-f1132b77cf8c",
   "metadata": {},
   "outputs": [
    {
     "name": "stdout",
     "output_type": "stream",
     "text": [
      "0123456789abcdefghijklmnopqrstuvwxyzABCDEFGHIJKLMNOPQRSTUVWXYZ!\"#$%&'()*+,-./:;<=>?@[\\]^_`{|}~ \t\n",
      "\u000b\f\n",
      "tensor([ 0,  1, 10, 11, 12])\n"
     ]
    }
   ],
   "source": [
    "# Convert Chars to Tensors\n",
    "def char_to_tensor(text) -> torch.tensor: \n",
    "    _list = [string.printable.index(c) for c in text]\n",
    "    tensor = torch.tensor(_list).long()\n",
    "    return tensor\n",
    "\n",
    "print(string.printable)\n",
    "print(char_to_tensor(\"01abc\"))"
   ]
  },
  {
   "cell_type": "code",
   "execution_count": 8,
   "id": "56d4529e-cf89-465b-b5eb-584fe20990ce",
   "metadata": {},
   "outputs": [
    {
     "name": "stdout",
     "output_type": "stream",
     "text": [
      "(tensor([13, 78, 94, 32, 24, 30, 21, 13, 94, 18, 29, 94, 17, 10, 31, 14, 94, 28,\n",
      "        30, 18, 29, 14, 13, 94, 34, 24, 30, 27, 96, 29, 10, 28, 29, 14, 28, 94,\n",
      "        11, 14, 29, 29, 14, 27, 94, 29, 24, 94, 11, 14, 94, 29, 27, 18, 14, 13,\n",
      "        94, 18, 23, 94, 29, 17, 14, 94, 24, 21, 13, 94, 12, 27, 18, 22, 18, 23,\n",
      "        10, 21, 94, 29, 27, 18, 11, 30, 23, 10, 21, 82, 63, 96, 96, 63, 44, 68,\n",
      "        22, 94, 23, 24, 29, 94, 16, 24, 18, 23, 16, 94, 29, 24, 94, 11, 14, 94,\n",
      "        29, 27, 18, 14, 13, 75, 94, 44, 94, 28, 17, 10, 23, 68, 29, 94, 22, 30,\n",
      "        27, 13, 14, 27, 94, 10, 23, 34, 11, 24, 13, 34, 73, 94, 10, 23, 13, 94,\n",
      "        44, 68, 31, 14, 94, 23, 24, 94, 23, 14, 14, 13, 94, 24, 15, 96, 18, 29,\n",
      "        75, 94, 58, 14, 21, 21, 73, 94, 44, 94, 29, 14, 21, 21, 94, 34, 24, 30,\n",
      "        94, 32, 17, 10, 29, 73, 63, 94, 17, 14, 94, 32, 14, 23, 29, 94, 24, 23,\n",
      "        73, 94]), tensor([78, 94, 32, 24, 30, 21, 13, 94, 18, 29, 94, 17, 10, 31, 14, 94, 28, 30,\n",
      "        18, 29, 14, 13, 94, 34, 24, 30, 27, 96, 29, 10, 28, 29, 14, 28, 94, 11,\n",
      "        14, 29, 29, 14, 27, 94, 29, 24, 94, 11, 14, 94, 29, 27, 18, 14, 13, 94,\n",
      "        18, 23, 94, 29, 17, 14, 94, 24, 21, 13, 94, 12, 27, 18, 22, 18, 23, 10,\n",
      "        21, 94, 29, 27, 18, 11, 30, 23, 10, 21, 82, 63, 96, 96, 63, 44, 68, 22,\n",
      "        94, 23, 24, 29, 94, 16, 24, 18, 23, 16, 94, 29, 24, 94, 11, 14, 94, 29,\n",
      "        27, 18, 14, 13, 75, 94, 44, 94, 28, 17, 10, 23, 68, 29, 94, 22, 30, 27,\n",
      "        13, 14, 27, 94, 10, 23, 34, 11, 24, 13, 34, 73, 94, 10, 23, 13, 94, 44,\n",
      "        68, 31, 14, 94, 23, 24, 94, 23, 14, 14, 13, 94, 24, 15, 96, 18, 29, 75,\n",
      "        94, 58, 14, 21, 21, 73, 94, 44, 94, 29, 14, 21, 21, 94, 34, 24, 30, 94,\n",
      "        32, 17, 10, 29, 73, 63, 94, 17, 14, 94, 32, 14, 23, 29, 94, 24, 23, 73,\n",
      "        94, 15]))\n"
     ]
    }
   ],
   "source": [
    "def draw_random_sample(textfile): \n",
    "    text_long = char_to_tensor(random_portion(textfile))\n",
    "    inputs = text_long[:-1]\n",
    "    targets = text_long[1:]\n",
    "    return inputs, targets\n",
    "\n",
    "print(draw_random_sample(textfile))"
   ]
  },
  {
   "cell_type": "code",
   "execution_count": 9,
   "id": "0822ec12-f729-49bd-bbae-c1cfd9f9123d",
   "metadata": {},
   "outputs": [],
   "source": [
    "# Model \n",
    "\n",
    "class RNN(torch.nn.Module): \n",
    "    def __init__(\n",
    "        self, \n",
    "        input_size: int, \n",
    "        embed_size: int, \n",
    "        hidden_size: int, \n",
    "        output_size: int\n",
    "        ): \n",
    "        super(RNN, self).__init__()\n",
    "        \n",
    "        self.hidden_size = hidden_size\n",
    "        self.embed = torch.nn.Embedding(\n",
    "                                    num_embeddings=input_size, \n",
    "                                    embedding_dim=embed_size) \n",
    "        self.rnn = torch.nn.LSTMCell(input_size=embed_size, \n",
    "                                     hidden_size=hidden_size) \n",
    "        self.fc = torch.nn.Linear(hidden_size, output_size) \n",
    "        \n",
    "    def forward(self, character, hidden_state, cell_state):\n",
    "        # expects character as size (batch_size, 1) \n",
    "        \n",
    "        # (batch_size, embedding_dim) = (1, embedding_dim=100) \n",
    "        embedded = self.embed(character) # (1 * 100)\n",
    "        (hidden_state, cell_state) = self.rnn(embedded, (hidden_state, cell_state))\n",
    "        output = self.fc(hidden_state)\n",
    "        return output, hidden_state, cell_state\n",
    "                                              \n",
    "    def init_zero_state(self):\n",
    "        # dimension = (1 x 128)\n",
    "        init_hidden = torch.zeros(1, self.hidden_size).to(DEVICE) \n",
    "        init_cell = torch.zeros(1, self.hidden_size).to(DEVICE)\n",
    "        return (init_hidden, init_cell)\n",
    "                                                                                    \n",
    "                                              \n",
    "        "
   ]
  },
  {
   "cell_type": "code",
   "execution_count": 10,
   "id": "498f1e12-b609-43f0-b8f7-9fc9b4d173c9",
   "metadata": {},
   "outputs": [],
   "source": [
    "torch.manual_seed(RANDOM_SEED) \n",
    "model = RNN(input_size=len(string.printable), # 100\n",
    "            embed_size=EMBEDDING_DIM,         # 100\n",
    "            hidden_size=HIDDEN_DIM,           # 128\n",
    "            output_size=len(string.printable) # 100\n",
    "           ) \n",
    "model = model.to(DEVICE) \n",
    "optimizer = torch.optim.Adam(model.parameters(), lr=LEARNING_RATE) "
   ]
  },
  {
   "cell_type": "code",
   "execution_count": 24,
   "id": "a1749a24-d2a9-4df9-9dad-43950013b48d",
   "metadata": {},
   "outputs": [],
   "source": [
    "# Training \n",
    "\n",
    "def evaluate(model, prime_str='A', predict_len=100, temperature=0.8):\n",
    "    ## based on https://github.com/spro/practical-pytorch/\n",
    "    ## blob/master/char-rnn-generation/char-rnn-generation.ipynb\n",
    "\n",
    "    (hidden, cell_state) = model.init_zero_state()\n",
    "    prime_input = char_to_tensor(prime_str)\n",
    "    predicted = prime_str\n",
    "\n",
    "    # Use priming string to \"build up\" hidden state\n",
    "    for p in range(len(prime_str) - 1):\n",
    "        inp = prime_input[p].unsqueeze(0)\n",
    "        _, hidden, cell_state = model(inp.to(DEVICE), hidden, cell_state)\n",
    "    inp = prime_input[-1].unsqueeze(0)\n",
    "    \n",
    "    for p in range(predict_len):\n",
    "\n",
    "        outputs, hidden, cell_state = model(inp.to(DEVICE), hidden, cell_state)\n",
    "        \n",
    "        # Sample from the network as a multinomial distribution\n",
    "        output_dist = outputs.data.view(-1).div(temperature).exp() # e^{logits / T}\n",
    "        top_i = torch.normal(output_dist, 1)[0]\n",
    "\n",
    "        # Add predicted character to string and use as next input\n",
    "        predicted_char = string.printable[top_i]\n",
    "        predicted += predicted_char\n",
    "        inp = char_to_tensor(predicted_char)\n",
    "\n",
    "    return predicted"
   ]
  },
  {
   "cell_type": "code",
   "execution_count": 25,
   "id": "d80ef267-530d-49be-98d8-185594019881",
   "metadata": {},
   "outputs": [
    {
     "name": "stdout",
     "output_type": "stream",
     "text": [
      "Time elapsed: 0.01 min\n",
      "Iteration 0 | Loss 3.09\n",
      "\n",
      "\n"
     ]
    },
    {
     "name": "stderr",
     "output_type": "stream",
     "text": [
      "/Users/nicholasdinicola/miniconda3/envs/TorchMPS/lib/python3.10/site-packages/torch/_tensor_str.py:114: UserWarning: The operator 'aten::masked_select' is not currently supported on the MPS backend and will fall back to run on the CPU. This may have performance implications. (Triggered internally at /Users/runner/work/_temp/anaconda/conda-bld/pytorch_1662707566412/work/aten/src/ATen/mps/MPSFallback.mm:11.)\n",
      "  nonzero_finite_vals = torch.masked_select(\n"
     ]
    },
    {
     "name": "stdout",
     "output_type": "stream",
     "text": [
      "tensor(0.4867, device='mps:0')\n"
     ]
    },
    {
     "ename": "TypeError",
     "evalue": "only integer tensors of a single element can be converted to an index",
     "output_type": "error",
     "traceback": [
      "\u001b[0;31m---------------------------------------------------------------------------\u001b[0m",
      "\u001b[0;31mTypeError\u001b[0m                                 Traceback (most recent call last)",
      "Cell \u001b[0;32mIn [25], line 29\u001b[0m\n\u001b[1;32m     27\u001b[0m \u001b[38;5;28mprint\u001b[39m(\u001b[38;5;124mf\u001b[39m\u001b[38;5;124m'\u001b[39m\u001b[38;5;124mTime elapsed: \u001b[39m\u001b[38;5;132;01m{\u001b[39;00m(time\u001b[38;5;241m.\u001b[39mtime() \u001b[38;5;241m-\u001b[39m start_time)\u001b[38;5;241m/\u001b[39m\u001b[38;5;241m60\u001b[39m\u001b[38;5;132;01m:\u001b[39;00m\u001b[38;5;124m.2f\u001b[39m\u001b[38;5;132;01m}\u001b[39;00m\u001b[38;5;124m min\u001b[39m\u001b[38;5;124m'\u001b[39m)\n\u001b[1;32m     28\u001b[0m \u001b[38;5;28mprint\u001b[39m(\u001b[38;5;124mf\u001b[39m\u001b[38;5;124m'\u001b[39m\u001b[38;5;124mIteration \u001b[39m\u001b[38;5;132;01m{\u001b[39;00miteration\u001b[38;5;132;01m}\u001b[39;00m\u001b[38;5;124m | Loss \u001b[39m\u001b[38;5;132;01m{\u001b[39;00mloss\u001b[38;5;241m.\u001b[39mitem()\u001b[38;5;132;01m:\u001b[39;00m\u001b[38;5;124m.2f\u001b[39m\u001b[38;5;132;01m}\u001b[39;00m\u001b[38;5;130;01m\\n\u001b[39;00m\u001b[38;5;130;01m\\n\u001b[39;00m\u001b[38;5;124m'\u001b[39m)\n\u001b[0;32m---> 29\u001b[0m \u001b[38;5;28mprint\u001b[39m(\u001b[43mevaluate\u001b[49m\u001b[43m(\u001b[49m\u001b[43mmodel\u001b[49m\u001b[43m,\u001b[49m\u001b[43m \u001b[49m\u001b[38;5;124;43m'\u001b[39;49m\u001b[38;5;124;43mTh\u001b[39;49m\u001b[38;5;124;43m'\u001b[39;49m\u001b[43m,\u001b[49m\u001b[43m \u001b[49m\u001b[38;5;241;43m200\u001b[39;49m\u001b[43m)\u001b[49m, \u001b[38;5;124m'\u001b[39m\u001b[38;5;130;01m\\n\u001b[39;00m\u001b[38;5;124m'\u001b[39m)\n\u001b[1;32m     30\u001b[0m \u001b[38;5;28mprint\u001b[39m(\u001b[38;5;241m50\u001b[39m\u001b[38;5;241m*\u001b[39m\u001b[38;5;124m'\u001b[39m\u001b[38;5;124m=\u001b[39m\u001b[38;5;124m'\u001b[39m)\n\u001b[1;32m     32\u001b[0m loss_list\u001b[38;5;241m.\u001b[39mappend(loss\u001b[38;5;241m.\u001b[39mitem())\n",
      "Cell \u001b[0;32mIn [24], line 26\u001b[0m, in \u001b[0;36mevaluate\u001b[0;34m(model, prime_str, predict_len, temperature)\u001b[0m\n\u001b[1;32m     24\u001b[0m \u001b[38;5;28mprint\u001b[39m(top_i)\n\u001b[1;32m     25\u001b[0m \u001b[38;5;66;03m# Add predicted character to string and use as next input\u001b[39;00m\n\u001b[0;32m---> 26\u001b[0m predicted_char \u001b[38;5;241m=\u001b[39m \u001b[43mstring\u001b[49m\u001b[38;5;241;43m.\u001b[39;49m\u001b[43mprintable\u001b[49m\u001b[43m[\u001b[49m\u001b[43mtop_i\u001b[49m\u001b[43m]\u001b[49m\n\u001b[1;32m     27\u001b[0m predicted \u001b[38;5;241m+\u001b[39m\u001b[38;5;241m=\u001b[39m predicted_char\n\u001b[1;32m     28\u001b[0m inp \u001b[38;5;241m=\u001b[39m char_to_tensor(predicted_char)\n",
      "\u001b[0;31mTypeError\u001b[0m: only integer tensors of a single element can be converted to an index"
     ]
    }
   ],
   "source": [
    "start_time = time.time()\n",
    "\n",
    "loss_list = []\n",
    "\n",
    "for iteration in range(NUM_ITER):\n",
    "\n",
    "    hidden, cell_state = model.init_zero_state()\n",
    "    optimizer.zero_grad()\n",
    "    \n",
    "    loss = 0.\n",
    "    inputs, targets = draw_random_sample(textfile)\n",
    "    inputs, targets = inputs.to(DEVICE), targets.to(DEVICE)\n",
    "    \n",
    "    for c in range(TEXT_PORTION_SIZE):\n",
    "        outputs, hidden, cell_state = model(inputs[c].unsqueeze(0), hidden, cell_state)\n",
    "        loss += torch.nn.functional.cross_entropy(outputs, targets[c].view(1))\n",
    "\n",
    "    loss /= TEXT_PORTION_SIZE\n",
    "    loss.backward()\n",
    "    \n",
    "    ### UPDATE MODEL PARAMETERS\n",
    "    optimizer.step()\n",
    "\n",
    "    ### LOGGING\n",
    "    with torch.no_grad():\n",
    "        if iteration % 200 == 0:\n",
    "            print(f'Time elapsed: {(time.time() - start_time)/60:.2f} min')\n",
    "            print(f'Iteration {iteration} | Loss {loss.item():.2f}\\n\\n')\n",
    "            print(evaluate(model, 'Th', 200), '\\n')\n",
    "            print(50*'=')\n",
    "            \n",
    "            loss_list.append(loss.item())\n",
    "            plt.clf()\n",
    "            plt.plot(range(len(loss_list)), loss_list)\n",
    "            plt.ylabel('Loss')\n",
    "            plt.xlabel('Iteration x 1000')\n",
    "            plt.savefig('loss1.pdf')\n",
    "            \n",
    "plt.clf()\n",
    "plt.ylabel('Loss')\n",
    "plt.xlabel('Iteration x 1000')\n",
    "plt.plot(range(len(loss_list)), loss_list)\n",
    "plt.show()"
   ]
  },
  {
   "cell_type": "code",
   "execution_count": 16,
   "id": "92fe7330-98cf-46fd-8b94-5ee5f17e3c3c",
   "metadata": {},
   "outputs": [],
   "source": [
    "import os \n",
    "\n",
    "os.environ[\"PYTORCH_ENABLE_MPS_FALLBACK\"] = \"1\""
   ]
  },
  {
   "cell_type": "code",
   "execution_count": null,
   "id": "1dd8a00d",
   "metadata": {},
   "outputs": [],
   "source": []
  }
 ],
 "metadata": {
  "kernelspec": {
   "display_name": "Python 3.10.6 ('base')",
   "language": "python",
   "name": "python3"
  },
  "language_info": {
   "codemirror_mode": {
    "name": "ipython",
    "version": 3
   },
   "file_extension": ".py",
   "mimetype": "text/x-python",
   "name": "python",
   "nbconvert_exporter": "python",
   "pygments_lexer": "ipython3",
   "version": "3.10.6"
  },
  "vscode": {
   "interpreter": {
    "hash": "d4d1e4263499bec80672ea0156c357c1ee493ec2b1c70f0acce89fc37c4a6abe"
   }
  }
 },
 "nbformat": 4,
 "nbformat_minor": 5
}
