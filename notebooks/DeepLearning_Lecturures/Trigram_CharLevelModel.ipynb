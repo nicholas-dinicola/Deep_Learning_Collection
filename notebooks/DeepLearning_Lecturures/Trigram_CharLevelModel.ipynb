{
 "nbformat": 4,
 "nbformat_minor": 0,
 "metadata": {
  "colab": {
   "provenance": [],
   "collapsed_sections": []
  },
  "kernelspec": {
   "name": "python3",
   "display_name": "Python 3"
  },
  "language_info": {
   "name": "python"
  },
  "accelerator": "GPU",
  "gpuClass": "standard"
 },
 "cells": [
  {
   "cell_type": "code",
   "execution_count": 1,
   "metadata": {
    "id": "20K_aZ_c57jw",
    "colab": {
     "base_uri": "https://localhost:8080/"
    },
    "outputId": "eeacf50d-e5ef-4e8f-8c40-6f5b3db6d5d4"
   },
   "outputs": [
    {
     "name": "stdout",
     "output_type": "stream",
     "text": [
      "cpu\n"
     ]
    }
   ],
   "source": [
    "import torch\n",
    "import torch.nn as nn\n",
    "import torch.nn.functional as F \n",
    "import matplotlib.pyplot as plt \n",
    "%matplotlib inline\n",
    "\n",
    "DEVICE = \"cuda\" if torch.cuda.is_available() else \"cpu\"\n",
    "print(DEVICE)"
   ]
  },
  {
   "cell_type": "code",
   "source": [
    "# download the names.txt file from github\n",
    "# !wget https://raw.githubusercontent.com/karpathy/makemore/master/names.txt"
   ],
   "metadata": {
    "colab": {
     "base_uri": "https://localhost:8080/"
    },
    "id": "jwkvxGIu6lWX",
    "outputId": "c8c9f4ea-8c9a-4045-e7f4-3cc77b077a8d"
   },
   "execution_count": 2,
   "outputs": [
    {
     "name": "stdout",
     "output_type": "stream",
     "text": [
      "zsh:1: command not found: wget\r\n"
     ]
    }
   ]
  },
  {
   "cell_type": "code",
   "source": [
    "words = open('data/names.txt', 'r').read().splitlines()\n",
    "words[:8]"
   ],
   "metadata": {
    "colab": {
     "base_uri": "https://localhost:8080/"
    },
    "id": "LUEtqJQR6zjH",
    "outputId": "6a55bba6-1379-464c-d0e9-9ef5494b7fe9"
   },
   "execution_count": 3,
   "outputs": [
    {
     "data": {
      "text/plain": "['emma', 'olivia', 'ava', 'isabella', 'sophia', 'charlotte', 'mia', 'amelia']"
     },
     "execution_count": 3,
     "metadata": {},
     "output_type": "execute_result"
    }
   ]
  },
  {
   "cell_type": "code",
   "source": [
    "len(words)"
   ],
   "metadata": {
    "colab": {
     "base_uri": "https://localhost:8080/"
    },
    "id": "7vzjvAY-62_K",
    "outputId": "e020463e-0738-4d8c-8090-1dff00cca390"
   },
   "execution_count": 4,
   "outputs": [
    {
     "data": {
      "text/plain": "32033"
     },
     "execution_count": 4,
     "metadata": {},
     "output_type": "execute_result"
    }
   ]
  },
  {
   "cell_type": "code",
   "source": [
    "itos = dict(enumerate(sorted(set(\"\".join(words))), start=1))\n",
    "itos[0] = \".\"\n",
    "stoi = {v: k for k, v in itos.items()}"
   ],
   "metadata": {
    "id": "Mlao710V65FF"
   },
   "execution_count": 5,
   "outputs": []
  },
  {
   "cell_type": "code",
   "source": [
    "# build the dataset\n",
    "block_size = 3 # context length: how many characters do we take to predict the next one?\n",
    "\n",
    "def build_dataset(words):\n",
    "  X, Y = [], []\n",
    "  for w in words:\n",
    "\n",
    "    #print(w)\n",
    "    context = [0] * block_size\n",
    "    for ch in w + '.':\n",
    "      ix = stoi[ch]\n",
    "      X.append(context)\n",
    "      Y.append(ix)\n",
    "      #print(''.join(itos[i] for i in context), '--->', itos[ix])\n",
    "      context = context[1:] + [ix] # crop and append\n",
    "\n",
    "  X = torch.tensor(X)\n",
    "  Y = torch.tensor(Y)\n",
    "  print(X.shape, Y.shape)\n",
    "  return X, Y\n",
    "\n",
    "import random\n",
    "random.seed(42)\n",
    "random.shuffle(words)\n",
    "n1 = int(0.8*len(words))\n",
    "n2 = int(0.9*len(words))\n",
    "\n",
    "Xtr, Ytr = build_dataset(words[:n1])\n",
    "Xdev, Ydev = build_dataset(words[n1:n2])\n",
    "Xte, Yte = build_dataset(words[n2:])"
   ],
   "metadata": {
    "colab": {
     "base_uri": "https://localhost:8080/"
    },
    "id": "R4K1veFD7E4m",
    "outputId": "7ce8bfdd-e99e-4f6d-8186-09a3f9486122"
   },
   "execution_count": 6,
   "outputs": [
    {
     "name": "stdout",
     "output_type": "stream",
     "text": [
      "torch.Size([182625, 3]) torch.Size([182625])\n",
      "torch.Size([22655, 3]) torch.Size([22655])\n",
      "torch.Size([22866, 3]) torch.Size([22866])\n"
     ]
    }
   ]
  },
  {
   "cell_type": "code",
   "source": [
    "g = torch.Generator().manual_seed(2147483647)\n",
    "vocab_size = 27\n",
    "emb_dim = 10\n",
    "# Embeddings\n",
    "C = torch.randn((vocab_size, emb_dim), generator=g)\n",
    "# First Hidden Layer\n",
    "input_hidden1 = C.shape[1] * block_size,\n",
    "output_hidden1 = 200\n",
    "W1 = torch.randn((input_hidden1[0], output_hidden1), generator=g)\n",
    "b1 = torch.randn(output_hidden1, generator=g)\n",
    "# Output Layer\n",
    "W2 = torch.randn((output_hidden1, vocab_size), generator=g)\n",
    "b2 = torch.randn(vocab_size, generator=g)\n",
    "\n",
    "parameters = [C, W1, b1, W2, b2]\n"
   ],
   "metadata": {
    "id": "RIy2Ddg-8pgN"
   },
   "execution_count": null,
   "outputs": []
  },
  {
   "cell_type": "code",
   "source": [
    "# number of parameters in total\n",
    "sum(p.nelement() for p in parameters)"
   ],
   "metadata": {
    "colab": {
     "base_uri": "https://localhost:8080/"
    },
    "id": "X-FMtMn0i37-",
    "outputId": "9d164389-cf27-47a1-b457-b6a981cfa33d"
   },
   "execution_count": null,
   "outputs": [
    {
     "output_type": "execute_result",
     "data": {
      "text/plain": [
       "11897"
      ]
     },
     "metadata": {},
     "execution_count": 8
    }
   ]
  },
  {
   "cell_type": "code",
   "source": [
    "for p in parameters: \n",
    "    p.to(DEVICE)\n",
    "    p.requires_grad = True"
   ],
   "metadata": {
    "id": "_MWskJi6i5fJ"
   },
   "execution_count": null,
   "outputs": []
  },
  {
   "cell_type": "code",
   "source": [
    "lri = []\n",
    "lossi = []\n",
    "stepi = []"
   ],
   "metadata": {
    "id": "pU8w-pZmlloU"
   },
   "execution_count": null,
   "outputs": []
  },
  {
   "cell_type": "code",
   "source": [
    "for i in range(200_000): \n",
    "\n",
    "    # minibatch contruct\n",
    "    ix = torch.randint(0, Xtr.shape[0], (32,))\n",
    "\n",
    "    # forward pass \n",
    "    emb = C[Xtr[ix]] # (32, 3, 10)\n",
    "    h = torch.tanh(emb.view(-1, input_hidden1[0]) @ W1 + b1) # (32, 200)\n",
    "    logits = h @ W2 + b2 # (32, 27)\n",
    "    loss = F.cross_entropy(logits, Ytr[ix])\n",
    "\n",
    "    # calculate the gradiants / backward pass\n",
    "    for p in parameters: \n",
    "        p.grad = None\n",
    "    loss.backward()\n",
    "\n",
    "    # update the weights \n",
    "    if i <= 90_000: \n",
    "        lr = 0.1\n",
    "    elif i > 90_000 and i <= 150_000: \n",
    "        lr = 0.01\n",
    "    else: \n",
    "        lr = 0.001\n",
    "        \n",
    "    for p in parameters: \n",
    "        p.data += -lr * p.grad\n",
    "\n",
    "    # track stats \n",
    "    stepi.append(i)\n",
    "    lossi.append(loss.log10().item())\n",
    "    \n",
    "    if i % 10_000 == 0: \n",
    "        print(f\"step: {i}/{200_000} - loss: {round(loss.item(),3)}\")\n",
    "        print(\"--------------------------------------\")\n",
    "\n",
    "\n"
   ],
   "metadata": {
    "id": "LPJPHTVWlp13",
    "colab": {
     "base_uri": "https://localhost:8080/"
    },
    "outputId": "710bcb28-4eb0-456a-b494-44f8ad818ff6"
   },
   "execution_count": null,
   "outputs": [
    {
     "output_type": "stream",
     "name": "stdout",
     "text": [
      "step: 0/200000 - loss: 23.719\n",
      "--------------------------------------\n",
      "step: 10000/200000 - loss: 2.745\n",
      "--------------------------------------\n",
      "step: 20000/200000 - loss: 2.504\n",
      "--------------------------------------\n",
      "step: 30000/200000 - loss: 2.083\n",
      "--------------------------------------\n",
      "step: 40000/200000 - loss: 2.287\n",
      "--------------------------------------\n",
      "step: 50000/200000 - loss: 2.272\n",
      "--------------------------------------\n",
      "step: 60000/200000 - loss: 2.735\n",
      "--------------------------------------\n",
      "step: 70000/200000 - loss: 2.207\n",
      "--------------------------------------\n",
      "step: 80000/200000 - loss: 2.732\n",
      "--------------------------------------\n",
      "step: 90000/200000 - loss: 2.431\n",
      "--------------------------------------\n",
      "step: 100000/200000 - loss: 2.471\n",
      "--------------------------------------\n",
      "step: 110000/200000 - loss: 1.902\n",
      "--------------------------------------\n",
      "step: 120000/200000 - loss: 2.528\n",
      "--------------------------------------\n",
      "step: 130000/200000 - loss: 2.193\n",
      "--------------------------------------\n",
      "step: 140000/200000 - loss: 2.388\n",
      "--------------------------------------\n",
      "step: 150000/200000 - loss: 2.104\n",
      "--------------------------------------\n",
      "step: 160000/200000 - loss: 2.348\n",
      "--------------------------------------\n",
      "step: 170000/200000 - loss: 2.01\n",
      "--------------------------------------\n",
      "step: 180000/200000 - loss: 2.159\n",
      "--------------------------------------\n",
      "step: 190000/200000 - loss: 2.053\n",
      "--------------------------------------\n"
     ]
    }
   ]
  },
  {
   "cell_type": "code",
   "source": [
    "plt.plot(stepi, lossi)"
   ],
   "metadata": {
    "colab": {
     "base_uri": "https://localhost:8080/",
     "height": 283
    },
    "id": "PZD8Nzk4Hlpk",
    "outputId": "8b99b6f3-49aa-44ea-9da9-79a564d94e44"
   },
   "execution_count": null,
   "outputs": [
    {
     "output_type": "execute_result",
     "data": {
      "text/plain": [
       "[<matplotlib.lines.Line2D at 0x7fca058edd10>]"
      ]
     },
     "metadata": {},
     "execution_count": 12
    },
    {
     "output_type": "display_data",
     "data": {
      "text/plain": [
       "<Figure size 432x288 with 1 Axes>"
      ],
      "image/png": "[encoded data removed]"
     },
     "metadata": {
      "needs_background": "light"
     }
    }
   ]
  },
  {
   "cell_type": "code",
   "source": [
    "# training loss \n",
    "emb = C[Xtr] # (182625, 3, 10)\n",
    "h = torch.tanh(emb.view(-1, input_hidden1[0]) @ W1 + b1) # (182625, 200)\n",
    "logits = h @ W2 + b2 # (182625, 27)\n",
    "loss = F.cross_entropy(logits, Ytr)\n",
    "print(loss)"
   ],
   "metadata": {
    "colab": {
     "base_uri": "https://localhost:8080/"
    },
    "id": "IIvtMfMMN1dq",
    "outputId": "08dc8d48-36e4-4bf7-cbab-2fb27e3695fa"
   },
   "execution_count": null,
   "outputs": [
    {
     "output_type": "stream",
     "name": "stdout",
     "text": [
      "tensor(2.1165, grad_fn=<NllLossBackward0>)\n"
     ]
    }
   ]
  },
  {
   "cell_type": "code",
   "source": [
    "# validation loss\n",
    "emb = C[Xdev] # (32, 3, 2)\n",
    "h = torch.tanh(emb.view(-1, 30) @ W1 + b1) # (32, 100)\n",
    "logits = h @ W2 + b2 # (32, 27)\n",
    "loss = F.cross_entropy(logits, Ydev)\n",
    "loss"
   ],
   "metadata": {
    "colab": {
     "base_uri": "https://localhost:8080/"
    },
    "id": "eUqC9Me0P3QA",
    "outputId": "9131ed64-6d07-45d7-925c-3c054be8a4e1"
   },
   "execution_count": null,
   "outputs": [
    {
     "output_type": "execute_result",
     "data": {
      "text/plain": [
       "tensor(2.1492, grad_fn=<NllLossBackward0>)"
      ]
     },
     "metadata": {},
     "execution_count": 14
    }
   ]
  },
  {
   "cell_type": "code",
   "source": [
    "# test loss\n",
    "emb = C[Xte] # (32, 3, 2)\n",
    "h = torch.tanh(emb.view(-1, 30) @ W1 + b1) # (32, 100)\n",
    "logits = h @ W2 + b2 # (32, 27)\n",
    "loss = F.cross_entropy(logits, Yte)\n",
    "loss"
   ],
   "metadata": {
    "colab": {
     "base_uri": "https://localhost:8080/"
    },
    "id": "TIiJdrsZP5Rv",
    "outputId": "0ae5b38c-8b63-4fd9-c2e1-07fcdd96a27a"
   },
   "execution_count": null,
   "outputs": [
    {
     "output_type": "execute_result",
     "data": {
      "text/plain": [
       "tensor(2.1516, grad_fn=<NllLossBackward0>)"
      ]
     },
     "metadata": {},
     "execution_count": 15
    }
   ]
  },
  {
   "cell_type": "code",
   "source": [
    "# sample from the model\n",
    "g = torch.Generator().manual_seed(2147483647 + 10)\n",
    "\n",
    "for _ in range(20):\n",
    "    \n",
    "    out = []\n",
    "    context = [0] * block_size # initialize with all ...\n",
    "    while True:\n",
    "      emb = C[torch.tensor([context])] # (1,block_size,d)\n",
    "      h = torch.tanh(emb.view(1, -1) @ W1 + b1)\n",
    "      logits = h @ W2 + b2\n",
    "      probs = F.softmax(logits, dim=1)\n",
    "      ix = torch.multinomial(probs, num_samples=1, generator=g).item()\n",
    "      context = context[1:] + [ix]\n",
    "      out.append(ix)\n",
    "      if ix == 0:\n",
    "        break\n",
    "    \n",
    "    print(''.join(itos[i] for i in out[:-1]))"
   ],
   "metadata": {
    "colab": {
     "base_uri": "https://localhost:8080/"
    },
    "id": "TppCK-roQlWb",
    "outputId": "40a08830-e0a4-43a4-cf68-e62c7bc28f22"
   },
   "execution_count": null,
   "outputs": [
    {
     "output_type": "stream",
     "name": "stdout",
     "text": [
      "carmah\n",
      "amelle\n",
      "khirmili\n",
      "taty\n",
      "skanden\n",
      "jazhnen\n",
      "delynn\n",
      "jareei\n",
      "nellara\n",
      "chaiir\n",
      "kaleigh\n",
      "ham\n",
      "joce\n",
      "quint\n",
      "shon\n",
      "walianni\n",
      "watelo\n",
      "dearixit\n",
      "kael\n",
      "dura\n"
     ]
    }
   ]
  },
  {
   "cell_type": "code",
   "source": [
    "# visualize dimensions 0 and 1 of the embedding matrix C for all characters\n",
    "plt.figure(figsize=(8,8))\n",
    "plt.scatter(C[:,0].data, C[:,1].data, s=200)\n",
    "for i in range(C.shape[0]):\n",
    "    plt.text(C[i,0].item(), C[i,1].item(), itos[i], ha=\"center\", va=\"center\", color='white')\n",
    "plt.grid('minor')"
   ],
   "metadata": {
    "id": "BJZXFTOqQ8S_"
   },
   "execution_count": null,
   "outputs": []
  },
  {
   "cell_type": "markdown",
   "source": [
    "# Parameters Initialization \n",
    "\n",
    "* What is the loss you'd get if the predicted probabilities at initialization were perfectly uniform? What loss do we achieve? \n",
    "* Can you tune the initialization to get a starting loss that is much more similar to (1)?"
   ],
   "metadata": {
    "id": "42gBET54rmju"
   }
  },
  {
   "cell_type": "code",
   "source": [
    "g = torch.Generator().manual_seed(2147483647)\n",
    "vocab_size = 27\n",
    "emb_dim = 10\n",
    "# Embeddings\n",
    "C = torch.randn((vocab_size, emb_dim), generator=g)\n",
    "#C = torch.nn.init.uniform_(C)\n",
    "\n",
    "# First Hidden Layer\n",
    "input_hidden1 = C.shape[1] * block_size,\n",
    "output_hidden1 = 200\n",
    "W1 = torch.randn((input_hidden1[0], output_hidden1), generator=g)\n",
    "b1 = torch.randn(output_hidden1, generator=g)\n",
    "# Output Layer\n",
    "W2 = torch.randn((output_hidden1, vocab_size), generator=g)\n",
    "b2 = torch.randn(vocab_size, generator=g)\n",
    "\n",
    "parameters = [C, W1, b1, W2, b2]"
   ],
   "metadata": {
    "id": "gu4Q09carm_2"
   },
   "execution_count": null,
   "outputs": []
  },
  {
   "cell_type": "code",
   "source": [
    "for p in parameters: \n",
    "    p = torch.nn.init.uniform_(p)\n",
    "    p.to(DEVICE)\n",
    "    p.requires_grad = True"
   ],
   "metadata": {
    "id": "NR9CsidbshHN"
   },
   "execution_count": null,
   "outputs": []
  },
  {
   "cell_type": "code",
   "source": [
    "stepi, lossi = list(), list()\n",
    "\n",
    "for i in range(200_000): \n",
    "\n",
    "    ix = torch.randint(0, Xtr.shape[0], (32,), generator=g)\n",
    "\n",
    "    emb = C[Xtr[ix]] # (182625, 3, 10)\n",
    "    h = torch.tanh(emb.view(-1, input_hidden1[0]) @ W1 + b1) # (182625, 200)\n",
    "    logits = h @ W2 + b2 # (182625, 27)\n",
    "    loss = F.cross_entropy(logits, Ytr[ix])\n",
    "\n",
    "    for p in parameters: \n",
    "        p.grad = None \n",
    "    loss.backward()\n",
    "\n",
    "    # update the weights \n",
    "    if i <= 90_000: \n",
    "        lr = 0.1\n",
    "    elif i > 90_000 and i <= 150_000: \n",
    "        lr = 0.01\n",
    "    else: \n",
    "        lr = 0.001\n",
    "        \n",
    "    for p in parameters: \n",
    "        p.data += -lr * p.grad\n",
    "\n",
    "    # track stats \n",
    "    stepi.append(i)\n",
    "    lossi.append(loss.log10().item())\n",
    "    \n",
    "    if i % 10_000 == 0: \n",
    "        print(f\"step: {i}/{200_000} - loss: {round(loss.item(),3)}\")\n",
    "        print(\"--------------------------------------\")\n"
   ],
   "metadata": {
    "colab": {
     "base_uri": "https://localhost:8080/"
    },
    "id": "JWbmtk_Ou19H",
    "outputId": "a9885923-118f-4c61-ece5-c6630fb8799e"
   },
   "execution_count": null,
   "outputs": [
    {
     "output_type": "stream",
     "name": "stdout",
     "text": [
      "step: 0/200000 - loss: 11.87\n",
      "--------------------------------------\n",
      "step: 10000/200000 - loss: 3.409\n",
      "--------------------------------------\n",
      "step: 20000/200000 - loss: 3.669\n",
      "--------------------------------------\n",
      "step: 30000/200000 - loss: 4.396\n",
      "--------------------------------------\n",
      "step: 40000/200000 - loss: 4.8\n",
      "--------------------------------------\n",
      "step: 50000/200000 - loss: 3.813\n",
      "--------------------------------------\n",
      "step: 60000/200000 - loss: 3.213\n",
      "--------------------------------------\n",
      "step: 70000/200000 - loss: 2.722\n",
      "--------------------------------------\n",
      "step: 80000/200000 - loss: 3.458\n",
      "--------------------------------------\n",
      "step: 90000/200000 - loss: 3.048\n",
      "--------------------------------------\n",
      "step: 100000/200000 - loss: 2.628\n",
      "--------------------------------------\n",
      "step: 110000/200000 - loss: 3.117\n",
      "--------------------------------------\n",
      "step: 120000/200000 - loss: 2.788\n",
      "--------------------------------------\n",
      "step: 130000/200000 - loss: 2.779\n",
      "--------------------------------------\n",
      "step: 140000/200000 - loss: 2.837\n",
      "--------------------------------------\n",
      "step: 150000/200000 - loss: 2.827\n",
      "--------------------------------------\n",
      "step: 160000/200000 - loss: 2.889\n",
      "--------------------------------------\n",
      "step: 170000/200000 - loss: 2.665\n",
      "--------------------------------------\n",
      "step: 180000/200000 - loss: 2.806\n",
      "--------------------------------------\n",
      "step: 190000/200000 - loss: 2.832\n",
      "--------------------------------------\n"
     ]
    }
   ]
  },
  {
   "cell_type": "code",
   "source": [],
   "metadata": {
    "id": "shubnQ8Pv3kR"
   },
   "execution_count": null,
   "outputs": []
  }
 ]
}
