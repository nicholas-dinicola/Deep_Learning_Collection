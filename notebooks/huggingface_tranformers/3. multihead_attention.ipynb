{
 "cells": [
  {
   "cell_type": "code",
   "execution_count": null,
   "metadata": {},
   "outputs": [],
   "source": [
    "import torch\n",
    "import torch.nn as nn \n",
    "import torch.nn.functional as F \n",
    "\n",
    "class AttentionHead(nn.Module): \n",
    "    def __init__(self, embed_dim, head_dim) -> None:\n",
    "        super().__init__()\n",
    "        self.q = nn.Linear(embed_dim, head_dim)\n",
    "        self.k = nn.Linear(embed_dim, head_dim)\n",
    "        self.v = nn.Linear(embed_dim, head_dim)\n",
    "\n",
    "    def forward(self, hidden_state) -> torch.Tensor: \n",
    "        attn_outputs = \n"
   ]
  }
 ],
 "metadata": {
  "kernelspec": {
   "display_name": "Python 3.9.13 ('base')",
   "language": "python",
   "name": "python3"
  },
  "language_info": {
   "name": "python",
   "version": "3.9.13"
  },
  "orig_nbformat": 4,
  "vscode": {
   "interpreter": {
    "hash": "3b7cf96f98d7696330d6b15e593b47aaec2e84baf3d164bd5b6c17e57a28d15c"
   }
  }
 },
 "nbformat": 4,
 "nbformat_minor": 2
}
