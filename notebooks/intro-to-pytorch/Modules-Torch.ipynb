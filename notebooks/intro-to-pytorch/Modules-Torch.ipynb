{
 "cells": [
  {
   "cell_type": "code",
   "execution_count": 33,
   "id": "411ac1f5-31ff-42ce-8874-d547324306e9",
   "metadata": {},
   "outputs": [],
   "source": [
    "import torch\n",
    "from torch import nn"
   ]
  },
  {
   "cell_type": "code",
   "execution_count": 34,
   "id": "76600173-75d9-47b7-afba-bc8aa35aa221",
   "metadata": {},
   "outputs": [],
   "source": [
    "class NeuralNet(nn.Module): \n",
    "    def __init__(self, input_size, output_size, num_hidden=2, hidden_size=128): \n",
    "        super(NeuralNet, self).__init__()\n",
    "        self.deep_nn = nn.Sequential()\n",
    "        for i in range(num_hidden): \n",
    "            self.deep_nn.add_module(f\"ff{i}\", nn.Linear(input_size, hidden_size))\n",
    "            self.deep_nn.add_module(f\"relu{i}\", nn.ReLU())\n",
    "            input_size = hidden_size\n",
    "            \n",
    "        self.deep_nn.add_module(f\"classifier\", nn.Linear(hidden_size, output_size))\n",
    "            \n",
    "    def forward(self, x): \n",
    "        out = self.deep_nn(x)\n",
    "        return out"
   ]
  },
  {
   "cell_type": "code",
   "execution_count": 35,
   "id": "5136a110-2420-47c1-87f9-aa26fa9c8162",
   "metadata": {},
   "outputs": [
    {
     "name": "stdout",
     "output_type": "stream",
     "text": [
      "tensor([[-0.1239,  0.0153],\n",
      "        [-0.1315,  0.0443],\n",
      "        [-0.1449,  0.0688],\n",
      "        [-0.1402,  0.0472]], grad_fn=<AddmmBackward0>)\n"
     ]
    }
   ],
   "source": [
    "batch = torch.rand(4, 16) \n",
    "nn = NeuralNet(16, 2)\n",
    "out = nn(batch)\n",
    "print(out) "
   ]
  },
  {
   "cell_type": "code",
   "execution_count": 26,
   "id": "6dbbe11b-a790-4ce0-b464-754ea3fc7ce6",
   "metadata": {},
   "outputs": [],
   "source": [
    "from torch import nn\n",
    "\n",
    "class NeuralNet(nn.Module): \n",
    "    def __init__(self, input_size, output_size, num_hidden=2, hidden_size=128): \n",
    "        super(NeuralNet, self).__init__()\n",
    "        self.deep_nn = nn.ModuleList()\n",
    "        for i in range(num_hidden): \n",
    "            self.deep_nn.add_module(f\"ff{i}\", nn.Linear(input_size, hidden_size))\n",
    "            self.deep_nn.add_module(f\"relu{i}\", nn.ReLU())\n",
    "            input_size = hidden_size\n",
    "            hidden_size = hidden_size \n",
    "            \n",
    "        self.deep_nn.add_module(f\"classifier\", nn.Linear(hidden_size, output_size))\n",
    "            \n",
    "    def forward(self, x): \n",
    "        hidden_states = list()\n",
    "        for layer in self.deep_nn: \n",
    "            x = layer(x)\n",
    "            hidden_states.append(x)\n",
    "        return hidden_states[-1], hidden_states[:-1]"
   ]
  },
  {
   "cell_type": "code",
   "execution_count": 28,
   "id": "6363d179-bbe9-4d37-bff7-9e455ce4f1e0",
   "metadata": {},
   "outputs": [
    {
     "name": "stdout",
     "output_type": "stream",
     "text": [
      "tensor([[-0.0466, -0.0249],\n",
      "        [-0.0607, -0.0396],\n",
      "        [-0.0905, -0.0570],\n",
      "        [-0.0357, -0.0281]], grad_fn=<AddmmBackward0>)\n"
     ]
    }
   ],
   "source": [
    "batch = torch.rand(4, 16) \n",
    "nn = NeuralNet(16, 2)\n",
    "out, states = nn(batch)\n",
    "print(out) "
   ]
  },
  {
   "cell_type": "code",
   "execution_count": 31,
   "id": "81584dd2-d247-4a38-85b3-3ad8f727e0e1",
   "metadata": {},
   "outputs": [
    {
     "name": "stdout",
     "output_type": "stream",
     "text": [
      "<bound method Module.parameters of NeuralNet(\n",
      "  (deep_nn): ModuleList(\n",
      "    (ff0): Linear(in_features=16, out_features=128, bias=True)\n",
      "    (relu0): ReLU()\n",
      "    (ff1): Linear(in_features=128, out_features=128, bias=True)\n",
      "    (relu1): ReLU()\n",
      "    (classifier): Linear(in_features=128, out_features=2, bias=True)\n",
      "  )\n",
      ")>\n"
     ]
    }
   ],
   "source": [
    "print(nn.parameters) "
   ]
  },
  {
   "cell_type": "code",
   "execution_count": null,
   "id": "0c9bce08-a7fd-4487-bc15-a2d67e63c20a",
   "metadata": {},
   "outputs": [],
   "source": []
  }
 ],
 "metadata": {
  "kernelspec": {
   "display_name": "Python 3 (ipykernel)",
   "language": "python",
   "name": "python3"
  },
  "language_info": {
   "codemirror_mode": {
    "name": "ipython",
    "version": 3
   },
   "file_extension": ".py",
   "mimetype": "text/x-python",
   "name": "python",
   "nbconvert_exporter": "python",
   "pygments_lexer": "ipython3",
   "version": "3.10.6"
  }
 },
 "nbformat": 4,
 "nbformat_minor": 5
}
