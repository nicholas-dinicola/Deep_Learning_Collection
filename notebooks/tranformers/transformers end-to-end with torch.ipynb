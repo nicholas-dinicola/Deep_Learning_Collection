{
 "cells": [
  {
   "cell_type": "code",
   "execution_count": 1,
   "metadata": {},
   "outputs": [
    {
     "name": "stderr",
     "output_type": "stream",
     "text": [
      "Global seed set to 42\n"
     ]
    },
    {
     "name": "stdout",
     "output_type": "stream",
     "text": [
      "Device: cpu\n"
     ]
    }
   ],
   "source": [
    "## Standard libraries\n",
    "import os\n",
    "import numpy as np\n",
    "import random\n",
    "import math\n",
    "import json\n",
    "from functools import partial\n",
    "\n",
    "## tqdm for loading bars\n",
    "from tqdm.notebook import tqdm\n",
    "\n",
    "## PyTorch\n",
    "import torch\n",
    "import torch.nn as nn\n",
    "import torch.nn.functional as F\n",
    "import torch.utils.data as data\n",
    "import torch.optim as optim\n",
    "\n",
    "## Torchvision\n",
    "import torchvision\n",
    "from torchvision.datasets import CIFAR100\n",
    "from torchvision import transforms\n",
    "\n",
    "# PyTorch Lightning\n",
    "import pytorch_lightning as pl\n",
    "from pytorch_lightning.callbacks import LearningRateMonitor, ModelCheckpoint\n",
    "\n",
    "# Path to the folder where the datasets are/should be downloaded (e.g. CIFAR10)\n",
    "DATASET_PATH = \"../data\"\n",
    "# Path to the folder where the pretrained models are saved\n",
    "CHECKPOINT_PATH = \"../saved_models/tutorial6\"\n",
    "\n",
    "# Setting the seed\n",
    "pl.seed_everything(42)\n",
    "\n",
    "\n",
    "device = torch.device(\"cuda:0\") if torch.cuda.is_available() else torch.device(\"cpu\")\n",
    "print(\"Device:\", device)"
   ]
  },
  {
   "cell_type": "code",
   "execution_count": 2,
   "metadata": {
    "collapsed": false
   },
   "outputs": [],
   "source": [
    "def scaled_dot_product(\n",
    "        q: torch.Tensor,\n",
    "        k: torch.Tensor,\n",
    "        v: torch.Tensor,\n",
    "        mask=None\n",
    "):\n",
    "    # q, k v shapes --> B, T, C\n",
    "    d_k = q.size()[-1] # hidden dimensionality C\n",
    "    # B, T, C @ B, C, T ---> B, T, T\n",
    "    attn_logits = torch.matmul(q, k.transpose(-2, -1)) # output: tensor.shape(T, T)\n",
    "    attn_logits = attn_logits ** d_k*-0.5 # math.sqrt(d_k) # scaling the dot product\n",
    "    if mask is not None:\n",
    "        attn_logits = attn_logits.masked_fill(mask == 0, -9e15)\n",
    "    attention = F.softmax(attn_logits, dim=-1) # (T, T)\n",
    "    values = attention @ v  # (T, T) x (T, dk) -> (T, dk)\n",
    "\n",
    "    return values, attention\n",
    "\n"
   ]
  },
  {
   "cell_type": "code",
   "execution_count": 3,
   "metadata": {
    "collapsed": false
   },
   "outputs": [
    {
     "name": "stdout",
     "output_type": "stream",
     "text": [
      "QSV Stacked torch.Size([2, 3, 6])\n",
      "Q\n",
      " torch.Size([2, 3, 2])\n",
      "K\n",
      " torch.Size([2, 3, 2])\n",
      "V\n",
      " torch.Size([2, 3, 2])\n",
      "Values\n",
      " torch.Size([2, 3, 2])\n",
      "Attention\n",
      " torch.Size([2, 3, 3])\n"
     ]
    }
   ],
   "source": [
    "B, T, C = 2, 3, 2\n",
    "x = torch.randn(B, T, C)\n",
    "\n",
    "# Project q, k, v vectors\n",
    "qkv_proj = nn.Linear(C, 3*C)\n",
    "qkv_stacked = qkv_proj(x)\n",
    "print(\"QSV Stacked\", qkv_stacked.shape)\n",
    "q, k, v = qkv_stacked.chunk(chunks=3, dim=-1)\n",
    "\n",
    "values, attention = scaled_dot_product(q, k, v)\n",
    "print(\"Q\\n\", q.shape)\n",
    "print(\"K\\n\", k.shape)\n",
    "print(\"V\\n\", v.shape)\n",
    "print(\"Values\\n\", values.shape)\n",
    "print(\"Attention\\n\", attention.shape)"
   ]
  },
  {
   "cell_type": "code",
   "execution_count": 4,
   "metadata": {
    "collapsed": false
   },
   "outputs": [],
   "source": [
    "class MultiHeadAttention(nn.Module):\n",
    "    def __init__(self, input_dim: int, embed_dim: int, n_head: int):\n",
    "        super(MultiHeadAttention, self).__init__()\n",
    "\n",
    "        self.input_dim = input_dim\n",
    "        self.embed_dim = embed_dim\n",
    "        self.n_head = n_head\n",
    "        self.head_dim = embed_dim // n_head\n",
    "\n",
    "        self.proj_qkv = nn.Linear(input_dim, 3*embed_dim)\n",
    "        self.proj_o = nn.Linear(embed_dim, embed_dim)\n",
    "\n",
    "    def forward(self, x: torch.Tensor, mask = None):\n",
    "        \n",
    "        B, T, C = x.size()\n",
    "\n",
    "        qkv = self.proj_qkv(x)  # (B, T, 3*embed_dim)\n",
    "        qkv = qkv.reshape(B, T, self.n_head, 3*self.head_dim)\n",
    "        qkv = qkv.permute(0, 2, 1, 3)  # (B, n_head, T, 3*head_dim)\n",
    "        q, k, v = torch.chunk(input=qkv, chunks=3, dim=-1) # (B, n_head, T, head_dim)\n",
    "\n",
    "        # attention\n",
    "        values, _ = scaled_dot_product(q, k, v, mask)  # (B, n_head, T, head_dim)\n",
    "        values = values.permute(0, 2, 1, 3) # (B, T, n_head, head_dim)\n",
    "        values = values.reshape(B, T, self.embed_dim)  # (B, T, embed_dim)  \n",
    "        out = self.proj_o(values) # (B, T, embed_dim)\n",
    "        return out\n",
    "        \n"
   ]
  },
  {
   "cell_type": "code",
   "execution_count": 9,
   "metadata": {
    "collapsed": false
   },
   "outputs": [
    {
     "name": "stdout",
     "output_type": "stream",
     "text": [
      "input tensor: torch.Size([2, 8, 32])\n",
      "mh output tensor: torch.Size([2, 8, 72])\n"
     ]
    }
   ],
   "source": [
    "B, T, C = 2, 8, 32\n",
    "x = torch.randn(B, T, C)\n",
    "print(\"input tensor:\", x.shape)\n",
    "\n",
    "mh = MultiHeadAttention(input_dim=C, embed_dim=72, n_head=6)\n",
    "o = mh(x)\n",
    "print(\"mh output tensor:\", o.shape)"
   ]
  },
  {
   "cell_type": "code",
   "execution_count": null,
   "metadata": {
    "collapsed": false
   },
   "outputs": [],
   "source": []
  },
  {
   "cell_type": "code",
   "execution_count": null,
   "metadata": {
    "collapsed": false
   },
   "outputs": [],
   "source": []
  },
  {
   "cell_type": "code",
   "execution_count": null,
   "metadata": {
    "collapsed": false
   },
   "outputs": [],
   "source": []
  },
  {
   "cell_type": "code",
   "execution_count": null,
   "metadata": {
    "collapsed": false
   },
   "outputs": [],
   "source": []
  },
  {
   "cell_type": "code",
   "execution_count": null,
   "metadata": {
    "collapsed": false
   },
   "outputs": [],
   "source": []
  },
  {
   "cell_type": "code",
   "execution_count": null,
   "metadata": {
    "collapsed": false
   },
   "outputs": [],
   "source": []
  },
  {
   "cell_type": "code",
   "execution_count": null,
   "metadata": {
    "collapsed": false
   },
   "outputs": [],
   "source": []
  },
  {
   "cell_type": "code",
   "execution_count": null,
   "metadata": {
    "collapsed": false
   },
   "outputs": [],
   "source": []
  }
 ],
 "metadata": {
  "kernelspec": {
   "display_name": "base",
   "language": "python",
   "name": "python3"
  },
  "language_info": {
   "codemirror_mode": {
    "name": "ipython",
    "version": 3
   },
   "file_extension": ".py",
   "mimetype": "text/x-python",
   "name": "python",
   "nbconvert_exporter": "python",
   "pygments_lexer": "ipython3",
   "version": "3.9.12"
  },
  "orig_nbformat": 4,
  "vscode": {
   "interpreter": {
    "hash": "3b7cf96f98d7696330d6b15e593b47aaec2e84baf3d164bd5b6c17e57a28d15c"
   }
  }
 },
 "nbformat": 4,
 "nbformat_minor": 2
}
