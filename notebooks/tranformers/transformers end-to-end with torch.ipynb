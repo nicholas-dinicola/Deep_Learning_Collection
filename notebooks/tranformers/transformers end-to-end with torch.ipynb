{
 "cells": [
  {
   "cell_type": "code",
   "execution_count": 1,
   "metadata": {},
   "outputs": [
    {
     "name": "stderr",
     "output_type": "stream",
     "text": [
      "Global seed set to 42\n"
     ]
    },
    {
     "name": "stdout",
     "output_type": "stream",
     "text": [
      "Device: cpu\n"
     ]
    }
   ],
   "source": [
    "## Standard libraries\n",
    "import os\n",
    "import numpy as np\n",
    "import random\n",
    "import math\n",
    "import json\n",
    "from functools import partial\n",
    "\n",
    "## tqdm for loading bars\n",
    "from tqdm.notebook import tqdm\n",
    "\n",
    "## PyTorch\n",
    "import torch\n",
    "import torch.nn as nn\n",
    "import torch.nn.functional as F\n",
    "import torch.utils.data as data\n",
    "import torch.optim as optim\n",
    "\n",
    "## Torchvision\n",
    "import torchvision\n",
    "from torchvision.datasets import CIFAR100\n",
    "from torchvision import transforms\n",
    "\n",
    "# PyTorch Lightning\n",
    "import pytorch_lightning as pl\n",
    "from pytorch_lightning.callbacks import LearningRateMonitor, ModelCheckpoint\n",
    "\n",
    "# Path to the folder where the datasets are/should be downloaded (e.g. CIFAR10)\n",
    "DATASET_PATH = \"../data\"\n",
    "# Path to the folder where the pretrained models are saved\n",
    "CHECKPOINT_PATH = \"../saved_models/tutorial6\"\n",
    "\n",
    "# Setting the seed\n",
    "pl.seed_everything(42)\n",
    "\n",
    "\n",
    "device = torch.device(\"cuda:0\") if torch.cuda.is_available() else torch.device(\"cpu\")\n",
    "print(\"Device:\", device)"
   ]
  },
  {
   "cell_type": "code",
   "execution_count": 15,
   "outputs": [],
   "source": [
    "def scaled_dot_product(\n",
    "        q: torch.Tensor,\n",
    "        k: torch.Tensor,\n",
    "        v: torch.Tensor,\n",
    "        mask=None\n",
    "):\n",
    "    # q, k v shapes --> B, T, C\n",
    "    d_k = q.size()[-1] # hidden dimensionality C\n",
    "    # B, T, C @ B, C, T ---> B, T, T\n",
    "    attn_logits = torch.matmul(q, k.transpose(-2, -1)) # output: tensor.shape(T, T)\n",
    "    attn_logits = attn_logits ** d_k*-0.5 # math.sqrt(d_k) # scaling the dot product\n",
    "    if mask is not None:\n",
    "        attn_logits = attn_logits.masked_fill(mask == 0, -9e15)\n",
    "    attention = F.softmax(attn_logits, dim=-1) # (T, T)\n",
    "    values = attention @ v  # (T, T) x (T, dk) -> (T, dk)\n",
    "\n",
    "    return values, attention\n",
    "\n"
   ],
   "metadata": {
    "collapsed": false
   }
  },
  {
   "cell_type": "code",
   "execution_count": 13,
   "outputs": [
    {
     "name": "stdout",
     "output_type": "stream",
     "text": [
      "Q\n",
      " tensor([[[ 0.6388,  1.4924],\n",
      "         [-2.0636,  0.7094],\n",
      "         [ 1.2972,  0.1024]],\n",
      "\n",
      "        [[-0.3947,  1.7133],\n",
      "         [-1.0739, -0.2111],\n",
      "         [ 1.4848,  0.4541]]])\n",
      "K\n",
      " tensor([[[-0.2800,  2.5416],\n",
      "         [-1.0840,  0.7681],\n",
      "         [ 0.0133,  0.4032]],\n",
      "\n",
      "        [[-1.0955,  0.0551],\n",
      "         [-1.5506,  1.4060],\n",
      "         [-0.9186,  2.5174]]])\n",
      "V\n",
      " tensor([[[ 0.5408,  1.0435],\n",
      "         [ 1.2338,  0.1211],\n",
      "         [ 0.3465, -0.9395]],\n",
      "\n",
      "        [[-0.1556,  0.7459],\n",
      "         [-0.0947, -0.0220],\n",
      "         [-0.5177,  1.4805]]])\n",
      "Values\n",
      " tensor([[[ 0.8084, -0.3860],\n",
      "         [ 0.3751, -0.8070],\n",
      "         [ 0.5795,  0.0624]],\n",
      "\n",
      "        [[-0.1549,  0.7369],\n",
      "         [-0.3236,  0.9465],\n",
      "         [-0.3805,  1.0947]]])\n",
      "Attention\n",
      " tensor([[[8.4072e-04, 5.2034e-01, 4.7882e-01],\n",
      "         [5.6141e-02, 1.9939e-02, 9.2392e-01],\n",
      "         [4.1320e-01, 1.7211e-01, 4.1469e-01]],\n",
      "\n",
      "        [[9.8814e-01, 1.1844e-02, 2.0326e-05],\n",
      "         [2.8173e-01, 2.1768e-01, 5.0059e-01],\n",
      "         [1.8443e-01, 1.6661e-01, 6.4896e-01]]])\n"
     ]
    }
   ],
   "source": [
    "B, T, C = 2, 3, 2\n",
    "q = torch.randn(B, T, C)\n",
    "k = torch.randn(B, T, C)\n",
    "v = torch.randn(B, T, C)\n",
    "values, attention = scaled_dot_product(q, k, v)\n",
    "print(\"Q\\n\", q)\n",
    "print(\"K\\n\", k)\n",
    "print(\"V\\n\", v)\n",
    "print(\"Values\\n\", values)\n",
    "print(\"Attention\\n\", attention)"
   ],
   "metadata": {
    "collapsed": false
   }
  },
  {
   "cell_type": "code",
   "execution_count": 27,
   "outputs": [],
   "source": [
    "class MultiHeadAttention(nn.Module):\n",
    "    def __init__(self, input_dim: int, embed_dim: int, n_head: int):\n",
    "        super(MultiHeadAttention, self).__init__()\n",
    "\n",
    "        self.input_dim = input_dim\n",
    "        self.embed_dim = embed_dim\n",
    "        self.n_head = n_head\n",
    "        self.head_dim = embed_dim // n_head\n",
    "\n",
    "        self.proj_qkv = nn.Linear(input_dim, 3*embed_dim)\n",
    "        self.proj_o = nn.Linear(embed_dim, embed_dim)\n",
    "\n",
    "\n",
    "    def forward(self, x: torch.Tensor, mask = None):\n",
    "\n",
    "        B, T, C = x.size()\n",
    "        qkv = self.proj_qkv(x)  # (B, T, 3*embed_dim)\n",
    "        qkv = qkv.reshape(B, T, self.n_head, 3*self.head_dim)\n",
    "        qkv = qkv.permute(0, 2, 1, 3)\n",
    "        q, k, v = torch.chunk(input=qkv, chunks=3, dim=-1) # (B, n_head, T, head_dim) * 3\n",
    "        # Attention\n",
    "        values, attention = scaled_dot_product(q, k, v, mask)  # (B, n_head, T, head_dim)\n",
    "        values = values.permute(0, 2, 1, 3)\n",
    "        values = values.reshape(B, T, self.embed_dim)\n",
    "        out = self.proj_o(values)\n",
    "        return out, attention"
   ],
   "metadata": {
    "collapsed": false
   }
  },
  {
   "cell_type": "code",
   "execution_count": 28,
   "outputs": [
    {
     "data": {
      "text/plain": "torch.Size([16, 64])"
     },
     "execution_count": 28,
     "metadata": {},
     "output_type": "execute_result"
    }
   ],
   "source": [
    "B, T, C = 2, 16, 32\n",
    "x = torch.randn(B, T, C)\n",
    "\n",
    "mh = MultiHeadAttention(input_dim=C, embed_dim=64, n_head=8)\n",
    "o, attn = mh(x)\n",
    "o.shape"
   ],
   "metadata": {
    "collapsed": false
   }
  },
  {
   "cell_type": "code",
   "execution_count": 35,
   "outputs": [],
   "source": [
    "class EncoderBlock(nn.Module):\n",
    "\n",
    "    def __init__(self, input_dim, num_heads, dim_feedforward, dropout=0.0):\n",
    "        \"\"\"\n",
    "        Inputs:\n",
    "            input_dim - Dimensionality of the input\n",
    "            num_heads - Number of heads to use in the attention block\n",
    "            dim_feedforward - Dimensionality of the hidden layer in the MLP\n",
    "            dropout - Dropout probability to use in the dropout layers\n",
    "        \"\"\"\n",
    "        super().__init__()\n",
    "\n",
    "        # Attention layer\n",
    "        self.self_attn = MultiHeadAttention(input_dim, input_dim, num_heads)\n",
    "\n",
    "        # Two-layer MLP\n",
    "        self.linear_net = nn.Sequential(\n",
    "            nn.Linear(input_dim, dim_feedforward),\n",
    "            nn.Dropout(dropout),\n",
    "            nn.ReLU(inplace=True),\n",
    "            nn.Linear(dim_feedforward, input_dim)\n",
    "        )\n",
    "\n",
    "        # Layers to apply in between the main layers\n",
    "        self.norm1 = nn.LayerNorm(input_dim)\n",
    "        self.norm2 = nn.LayerNorm(input_dim)\n",
    "        self.dropout = nn.Dropout(dropout)\n",
    "\n",
    "    def forward(self, x, mask=None):\n",
    "        # Attention part\n",
    "        attn_out = self.self_attn(x, mask=mask)\n",
    "        x = x + self.dropout(attn_out)\n",
    "        x = self.norm1(x)\n",
    "\n",
    "        # MLP part\n",
    "        linear_out = self.linear_net(x)\n",
    "        x = x + self.dropout(linear_out)\n",
    "        x = self.norm2(x)\n",
    "\n",
    "        return x"
   ],
   "metadata": {
    "collapsed": false
   }
  },
  {
   "cell_type": "code",
   "execution_count": 37,
   "outputs": [
    {
     "data": {
      "text/plain": "torch.Size([2, 16, 32])"
     },
     "execution_count": 37,
     "metadata": {},
     "output_type": "execute_result"
    }
   ],
   "source": [
    "encoder = EncoderBlock(input_dim=C, num_heads=8, dim_feedforward=64*4)\n",
    "\n",
    "encoder(x).shape"
   ],
   "metadata": {
    "collapsed": false
   }
  },
  {
   "cell_type": "code",
   "execution_count": null,
   "outputs": [],
   "source": [],
   "metadata": {
    "collapsed": false
   }
  },
  {
   "cell_type": "code",
   "execution_count": null,
   "outputs": [],
   "source": [],
   "metadata": {
    "collapsed": false
   }
  },
  {
   "cell_type": "code",
   "execution_count": null,
   "outputs": [],
   "source": [],
   "metadata": {
    "collapsed": false
   }
  },
  {
   "cell_type": "code",
   "execution_count": null,
   "outputs": [],
   "source": [],
   "metadata": {
    "collapsed": false
   }
  },
  {
   "cell_type": "code",
   "execution_count": null,
   "outputs": [],
   "source": [],
   "metadata": {
    "collapsed": false
   }
  },
  {
   "cell_type": "code",
   "execution_count": null,
   "outputs": [],
   "source": [],
   "metadata": {
    "collapsed": false
   }
  },
  {
   "cell_type": "code",
   "execution_count": null,
   "outputs": [],
   "source": [],
   "metadata": {
    "collapsed": false
   }
  },
  {
   "cell_type": "code",
   "execution_count": null,
   "outputs": [],
   "source": [],
   "metadata": {
    "collapsed": false
   }
  },
  {
   "cell_type": "code",
   "execution_count": null,
   "outputs": [],
   "source": [],
   "metadata": {
    "collapsed": false
   }
  },
  {
   "cell_type": "code",
   "execution_count": null,
   "outputs": [],
   "source": [],
   "metadata": {
    "collapsed": false
   }
  },
  {
   "cell_type": "code",
   "execution_count": 31,
   "outputs": [],
   "source": [
    "class MultiHeadAttention(nn.Module):\n",
    "\n",
    "    def __init__(self, input_dim, embed_dim, num_heads):\n",
    "        super().__init__()\n",
    "        assert embed_dim % num_heads == 0, \"Embedding dimension must be 0 modulo number of heads\"\n",
    "\n",
    "        self.embed_dim = embed_dim\n",
    "        self.num_heads = num_heads\n",
    "        self.head_dim = embed_dim // num_heads\n",
    "\n",
    "        # Stack all weight matrices 1..h together for efficiency\n",
    "        # Note that in many implementations you see \"bias=False\" which is optional\n",
    "        self.qkv_proj = nn.Linear(input_dim, 3*embed_dim, bias=False)\n",
    "        self.o_proj = nn.Linear(embed_dim, embed_dim)\n",
    "\n",
    "        self._reset_parameters()\n",
    "\n",
    "    def _reset_parameters(self):\n",
    "        # Original Transformer initialization, see PyTorch documentation\n",
    "        nn.init.xavier_uniform_(self.qkv_proj.weight)\n",
    "        nn.init.xavier_uniform_(self.o_proj.weight)\n",
    "        # self.o_proj.bias.data.fill(0)\n",
    "\n",
    "    def forward(self, x, mask=None, return_attention=False):\n",
    "        B, T, C = x.size()\n",
    "        qkv = self.qkv_proj(x) # B, T, 3*EmbedDim\n",
    "\n",
    "        # Separate Q, K, V from linear output\n",
    "        qkv = qkv.reshape(B, T, self.num_heads, 3*self.head_dim)\n",
    "        qkv = qkv.permute(0, 2, 1, 3) # [B, hn, T, C]\n",
    "        q, k, v = qkv.chunk(3, dim=-1)\n",
    "\n",
    "        # Determine value outputs\n",
    "        values, attention = scaled_dot_product(q, k, v, mask=mask)\n",
    "        values = values.permute(0, 2, 1, 3) # [B, T, Head, C]\n",
    "        values = values.reshape(B, T, self.embed_dim)\n",
    "        o = self.o_proj(values)\n",
    "\n",
    "        if return_attention:\n",
    "            return o, attention\n",
    "        else:\n",
    "            return o\n",
    "\n",
    "\n"
   ],
   "metadata": {
    "collapsed": false
   }
  },
  {
   "cell_type": "code",
   "execution_count": 33,
   "outputs": [
    {
     "data": {
      "text/plain": "torch.Size([2, 4, 12])"
     },
     "execution_count": 33,
     "metadata": {},
     "output_type": "execute_result"
    }
   ],
   "source": [
    "# Create an example input tensor\n",
    "x = torch.randn(2, 4, 6)  # (B, T, C)\n",
    "mha = MultiHeadAttention(input_dim=6, embed_dim=12, num_heads=3)\n",
    "output = mha(x)\n",
    "output.shape"
   ],
   "metadata": {
    "collapsed": false
   }
  },
  {
   "cell_type": "code",
   "execution_count": 39,
   "outputs": [
    {
     "data": {
      "text/plain": "torch.Size([2, 4, 36])"
     },
     "execution_count": 39,
     "metadata": {},
     "output_type": "execute_result"
    }
   ],
   "source": [
    "m = nn.Linear(6, 12*3)\n",
    "o = m(x)\n",
    "o.shape"
   ],
   "metadata": {
    "collapsed": false
   }
  },
  {
   "cell_type": "code",
   "execution_count": 42,
   "outputs": [
    {
     "data": {
      "text/plain": "torch.Size([2, 4, 3, 12])"
     },
     "execution_count": 42,
     "metadata": {},
     "output_type": "execute_result"
    }
   ],
   "source": [
    "o.reshape(2, 4, 3, 3*4).shape"
   ],
   "metadata": {
    "collapsed": false
   }
  },
  {
   "cell_type": "code",
   "execution_count": null,
   "outputs": [],
   "source": [],
   "metadata": {
    "collapsed": false
   }
  }
 ],
 "metadata": {
  "kernelspec": {
   "display_name": "base",
   "language": "python",
   "name": "python3"
  },
  "language_info": {
   "name": "python",
   "version": "3.9.13"
  },
  "orig_nbformat": 4,
  "vscode": {
   "interpreter": {
    "hash": "3b7cf96f98d7696330d6b15e593b47aaec2e84baf3d164bd5b6c17e57a28d15c"
   }
  }
 },
 "nbformat": 4,
 "nbformat_minor": 2
}
